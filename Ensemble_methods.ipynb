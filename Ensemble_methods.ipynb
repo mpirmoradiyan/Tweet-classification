{
 "cells": [
  {
   "cell_type": "code",
   "execution_count": 1,
   "metadata": {
    "colab": {
     "base_uri": "https://localhost:8080/"
    },
    "id": "Rp9VPmxX6zeD",
    "outputId": "5c5211c9-9822-4785-ffb2-c08a3494ba71"
   },
   "outputs": [
    {
     "name": "stderr",
     "output_type": "stream",
     "text": [
      "[nltk_data] Downloading package stopwords to /home/mohsen/nltk_data...\n",
      "[nltk_data]   Package stopwords is already up-to-date!\n",
      "[nltk_data] Downloading package wordnet to /home/mohsen/nltk_data...\n",
      "[nltk_data]   Package wordnet is already up-to-date!\n"
     ]
    }
   ],
   "source": [
    "import pandas as pd\n",
    "import numpy as np\n",
    "import spacy\n",
    "import nltk\n",
    "# nltk.download('stopwords')\n",
    "# nltk.download('wordnet')\n",
    "from nltk.tokenize import word_tokenize\n",
    "import matplotlib.pyplot as plt\n",
    "import seaborn as sns\n",
    "import string\n",
    "import re\n",
    "from bs4 import BeautifulSoup\n",
    "from html import unescape"
   ]
  },
  {
   "cell_type": "code",
   "execution_count": 2,
   "metadata": {
    "id": "_qhgBgE96zeL"
   },
   "outputs": [],
   "source": [
    "train = pd.read_csv(\"Corona_NLP_train.csv\")\n",
    "test = pd.read_csv(\"Corona_NLP_test.csv\")\n",
    "data = pd.concat([train, test])"
   ]
  },
  {
   "cell_type": "code",
   "execution_count": 3,
   "metadata": {
    "id": "G_ZJRB316zeP"
   },
   "outputs": [],
   "source": [
    "def makeClean(text):\n",
    "    #Removing escaped tags if there is any\n",
    "    text = BeautifulSoup(unescape(text), 'lxml').text\n",
    "    #Removing the url links\n",
    "    text = re.sub(r'https?://\\S+|www\\.\\S+', '', text)\n",
    "    #Removing the html tags\n",
    "    text = re.sub(r'<.*?>', '', text)\n",
    "    \n",
    "    #Removing mentions\n",
    "    text = re.sub(r'@\\w+','',text)\n",
    "    #Removing hashtags\n",
    "    text=re.sub(r'#\\w+','',text)\n",
    "    \n",
    "    #Lowercasing the text \n",
    "    text = text.lower()\n",
    "    #Removing numbers\n",
    "    text = re.sub(r\"(?<=\\d)(st|nd|rd|th)\\b\", '', text)\n",
    "    text = re.sub('[0-9]+', '', text)\n",
    "    \n",
    "    #Converting the contractions into their corresponding standard form \n",
    "    text = re.sub(r\"won't\", \"will not\", text)\n",
    "    text = re.sub(r\"can\\'t\", \"can not\", text)\n",
    "    text = re.sub(r\"don't\", \"do not\", text)\n",
    "    text = re.sub(r\"don t\", \"do not\", text)\n",
    "    text = re.sub(r\"doesn't\", \"does not\", text)\n",
    "    text = re.sub(r\"n\\'t\", \" not\", text)\n",
    "    text = re.sub(r\"\\'re\", \" are\", text)\n",
    "    text = re.sub(r\"\\'s\", \" is\", text)\n",
    "    text = re.sub(r\"\\'d\", \" would\", text)\n",
    "    text = re.sub(r\"\\'ll\", \" will\", text)\n",
    "    text = re.sub(r\"\\'t\", \" not\", text)\n",
    "    text = re.sub(r\"\\'ve\", \" have\", text)\n",
    "    text = re.sub(r\"\\'m\", \" am\", text)\n",
    "\n",
    "   \n",
    "    #Removing punctuation\n",
    "    for char in text:\n",
    "        if char in string.punctuation:\n",
    "            text=text.replace(char, '')\n",
    "    #Remiving the extra spaces\n",
    "    text = re.sub(r\"\\s+\",\" \",text).strip()\n",
    "    \n",
    "    return(text)\n",
    "\n",
    "\n",
    "# Tokenizing the data using NLTK package\n",
    "stopwords = nltk.corpus.stopwords.words('english')\n",
    "\n",
    "# def nltkPreprocess(text):\n",
    "# #     stemmer = nltk.PorterStemmer()\n",
    "#     lemmatizer = nltk.WordNetLemmatizer()\n",
    "#     tokens = word_tokenize(text)\n",
    "# #     tokens = [stemmer.stem(token) for token in tokens if token not in stopwords]\n",
    "    \n",
    "#     return [lemmatizer.lemmatize(token) for token in tokens if token not in stopwords]\n",
    "\n",
    "\n",
    "# #Tokenizing the data using spacy package\n",
    "\n",
    "# nlp = spacy.load(\"en_core_web_sm\")\n",
    "# def spacyPreprocess(text):\n",
    "#     doc = nlp(text)\n",
    "#     return [token.lemma_ for token in doc if token.lemma_.isalpha() and not token.is_stop]\n",
    "\n",
    "def nltkPreprocess(text):\n",
    "#     stemmer = nltk.PorterStemmer()\n",
    "    lemmatizer = nltk.WordNetLemmatizer()\n",
    "    tokens = word_tokenize(text)\n",
    "#     tokens = [stemmer.stem(token) for token in tokens if token not in stopwords]\n",
    "    tokensList = ' '.join(lemmatizer.lemmatize(token) for token in tokens if token not in stopwords)\n",
    "    return str(tokensList).strip('[]')\n",
    "#     return tokensList\n",
    "\n",
    "\n",
    "#Tokenizing the data using spacy package\n",
    "\n",
    "nlp = spacy.load(\"en_core_web_sm\")\n",
    "def spacyPreprocess(text):\n",
    "    doc = nlp(text)\n",
    "    tokensList = \" \".join(token.lemma_ for token in doc if token.lemma_.isalpha() and not token.is_stop)\n",
    "#     return str(tokensList).strip('[]')\n",
    "    return tokensList"
   ]
  },
  {
   "cell_type": "code",
   "execution_count": 4,
   "metadata": {
    "id": "uCCyZZuj6zeT"
   },
   "outputs": [],
   "source": [
    "import warnings\n",
    "warnings.filterwarnings('ignore')\n",
    "\n",
    "#Applying the cleaning function on the original tweets\n",
    "\n",
    "data[\"CleanedTweet\"] = data[\"OriginalTweet\"].map(lambda text: makeClean(text))\n",
    "\n",
    "\n",
    "\n",
    "#Tokenizing by spacy\n",
    "data[\"Tokenized_Spacy\"] = data[\"CleanedTweet\"].map(lambda text:spacyPreprocess(text))\n",
    "\n",
    "#Tokenizing by NLTK\n",
    "# eda_data[\"Tokenized_nltk\"] = eda_data[\"CleanedTweet\"].map(lambda text:nltkPreprocess(text))"
   ]
  },
  {
   "cell_type": "code",
   "execution_count": 5,
   "metadata": {
    "id": "DVZL2kqS7cyi"
   },
   "outputs": [],
   "source": [
    "#Inserting the Sentiment column into the new data frame. A 3-class Sentiment column was also created to have Negative, Neutral, and Positive classes.\n",
    "\n",
    "data[\"Sentiment2\"]= data[\"Sentiment\"].map({\"Neutral\":\"Neutral\", \"Positive\":\"Positive\", \"Negative\":\"Negative\", \"Extremely Negative\":\"Negative\", \"Extremely Positive\":\"Positive\"})\n"
   ]
  },
  {
   "cell_type": "code",
   "execution_count": 6,
   "metadata": {
    "id": "nSP9vUFB6zeW"
   },
   "outputs": [],
   "source": [
    "from sklearn.model_selection import train_test_split\n",
    "classCol = 'Sentiment2'\n",
    "train,test = train_test_split(data, test_size=0.15, stratify=data[classCol], random_state=41)\n",
    "X_train, y_train = train['Tokenized_Spacy'], train[classCol]\n",
    "X_test, y_test = test[\"Tokenized_Spacy\"], test[classCol]"
   ]
  },
  {
   "cell_type": "code",
   "execution_count": 7,
   "metadata": {
    "colab": {
     "base_uri": "https://localhost:8080/",
     "height": 531
    },
    "id": "ed9DS8L36zea",
    "outputId": "fecf8c6b-aa0f-48db-9e9d-2e1f029fbd72"
   },
   "outputs": [
    {
     "data": {
      "image/png": "[encoded data removed]",
      "text/plain": [
       "<Figure size 864x576 with 2 Axes>"
      ]
     },
     "metadata": {
      "needs_background": "light"
     },
     "output_type": "display_data"
    }
   ],
   "source": [
    "# import matplotlib.pyplot as plt\n",
    "fig, (ax1,ax2) = plt.subplots(1,2, figsize=(12,8), )\n",
    "train['Sentiment2'].value_counts().sort_index().plot(kind='barh', ax=ax1)\n",
    "\n",
    "ax1.set_xlabel(\"Count\", labelpad=14)\n",
    "ax1.set_ylabel(\"Sentiment\", labelpad=14)\n",
    "ax1.set_title(\" Training set\", y=1.02);\n",
    "\n",
    "\n",
    "test['Sentiment2'].value_counts().sort_index().plot(kind='barh', ax=ax2)\n",
    "ax2.set_xlabel(\"Count\", labelpad=14)\n",
    "\n",
    "ax2.set_title(\" Test Set\", y=1.02);\n",
    "\n",
    "plt.subplots_adjust(wspace=0.5)"
   ]
  },
  {
   "cell_type": "code",
   "execution_count": 13,
   "metadata": {
    "id": "JoOXV-pO6zee"
   },
   "outputs": [],
   "source": []
  },
  {
   "cell_type": "markdown",
   "metadata": {
    "id": "BOi52qLA6zeh"
   },
   "source": [
    "# Vectorization"
   ]
  },
  {
   "cell_type": "markdown",
   "metadata": {
    "id": "GGdRdyHc6zei"
   },
   "source": [
    "In order to make a text document learnable by a machine learning algorithm, it first must be converted to a numeric representation since the machine learning algorithms operate on numeric input spaces. Therefore, we need to represent the obtained tokens as the numeric arrays so that it is possible to perform a machine learning on them. This process is reffered to as text vectorization or feature extraction and is an essential step before applying any machine learning algorithm.\n",
    "There are different approaches to transform a text document into a numeric vector from which the Bag-of-words (BOW) was implemented in this work.\n",
    "\n",
    "With BOW approach, a document is simply vectorized numerically in such a way that the length of the vector is the number of words or tokens included in the document. In other words each of the tokens will be a feature in this bag and it must be assigned a numeric value which represents the corresponding word numerically. There exist several choices to compute those numeric representations among which $frequency, TF–IDF$ are the most common used approaches.\n",
    "## Frequency Vector\n",
    "Freqency vectorization is the simplest approach in which the vector is filled in by the number of occurences of the corresponding words in the document. Each document composed of a sequence of words(tokens) each of which has appeared in the document one time or more. The numper of these occurences are simply counted and filled in each word position in the vector. These numbers may also be normalized.\n",
    "\n",
    "## Term Frequency–Inverse Document Frequency\n",
    "The frequency vector takes only a text document into acount without considering the other documents existing in the corpus. TF-IDF is an approach with which not only the frequency of a word in a document is considered, but also its relative frequency in that document against its frequency in other documents of the corpus will be taken into account. \n",
    "\n",
    "\n",
    "[https://www.oreilly.com/library/view/applied-text-analysis/9781491963036/ch04.html]"
   ]
  },
  {
   "cell_type": "markdown",
   "metadata": {
    "id": "qgdJQvR06zej"
   },
   "source": [
    "# Multinomial Naive Bayes"
   ]
  },
  {
   "cell_type": "code",
   "execution_count": 8,
   "metadata": {
    "id": "faFMUW2rHPQG"
   },
   "outputs": [],
   "source": [
    "from sklearn.naive_bayes import MultinomialNB\n",
    "from sklearn.feature_extraction.text import CountVectorizer, TfidfVectorizer,TfidfTransformer\n",
    "from sklearn.pipeline import Pipeline\n",
    "from sklearn.metrics import classification_report\n",
    "from sklearn.model_selection import GridSearchCV\n",
    "\n",
    "def nbClf(vect=CountVectorizer, nGrams=(1,1)):\n",
    "  pipe = Pipeline([('vectorizer', vect(stop_words='english', ngram_range=nGrams)),                 \n",
    "                   ('clf', MultinomialNB())])\n",
    "\n",
    "  params = {'vectorizer__max_df': (0.5, 1.0),       \n",
    "            'clf__alpha':(0.01,0.1,1)}\n",
    "\n",
    "  grid_search = GridSearchCV(pipe, params, verbose=0)\n",
    "\n",
    "  grid_search.fit(X_train, y_train)\n",
    "\n",
    "  #Best score and parameters\n",
    "  print(\"Best Parameters:\\n\")\n",
    "  for k,v in grid_search.best_params_.items():\n",
    "      print(f\"\\t{k} : {v}\")\n",
    "  print()\n",
    "  print(f\"Best Score: {grid_search.best_score_}\")\n",
    "\n",
    "\n",
    "  #Best estimator\n",
    "  print(\"\\nPerformance on the test data\")\n",
    "  best_pipe = grid_search.best_estimator_\n",
    "\n",
    "  best_pipe.fit(X_train, y_train)\n",
    "  pred = best_pipe.predict(X_test)\n",
    "  print()\n",
    "  print(classification_report(y_test, pred))\n"
   ]
  },
  {
   "cell_type": "code",
   "execution_count": 14,
   "metadata": {
    "colab": {
     "base_uri": "https://localhost:8080/"
    },
    "id": "_dupJJao6zek",
    "outputId": "b3ead925-639f-4f05-9723-97f77dbb2f35"
   },
   "outputs": [
    {
     "name": "stdout",
     "output_type": "stream",
     "text": [
      "Best Parameters:\n",
      "\n",
      "\tclf__alpha : 0.1\n",
      "\tvectorizer__max_df : 0.5\n",
      "\n",
      "Best Score: 0.6721627208527572\n",
      "\n",
      "Performance on the test data\n",
      "\n",
      "              precision    recall  f1-score   support\n",
      "\n",
      "    Negative       0.69      0.73      0.71      2555\n",
      "     Neutral       0.57      0.40      0.47      1250\n",
      "    Positive       0.70      0.76      0.73      2939\n",
      "\n",
      "    accuracy                           0.68      6744\n",
      "   macro avg       0.65      0.63      0.64      6744\n",
      "weighted avg       0.67      0.68      0.67      6744\n",
      "\n"
     ]
    }
   ],
   "source": [
    "\n",
    "# #Performing grid search based on CountVectorizer, n-grams=(1,1)\n",
    "\n",
    "nbClf(vect=CountVectorizer, nGrams=(1,1))\n"
   ]
  },
  {
   "cell_type": "code",
   "execution_count": 15,
   "metadata": {
    "colab": {
     "base_uri": "https://localhost:8080/"
    },
    "id": "KBNu6xHuNuws",
    "outputId": "b7399595-ca0d-4b50-9a08-4c819bdcbbe7"
   },
   "outputs": [
    {
     "name": "stdout",
     "output_type": "stream",
     "text": [
      "Best Parameters:\n",
      "\n",
      "\tclf__alpha : 0.1\n",
      "\tvectorizer__max_df : 0.5\n",
      "\n",
      "Best Score: 0.6572454133955999\n",
      "\n",
      "Performance on the test data\n",
      "\n",
      "              precision    recall  f1-score   support\n",
      "\n",
      "    Negative       0.68      0.71      0.70      2555\n",
      "     Neutral       0.58      0.39      0.47      1250\n",
      "    Positive       0.69      0.76      0.73      2939\n",
      "\n",
      "    accuracy                           0.67      6744\n",
      "   macro avg       0.65      0.62      0.63      6744\n",
      "weighted avg       0.67      0.67      0.67      6744\n",
      "\n"
     ]
    }
   ],
   "source": [
    "#Performing grid search based on CountVectorizer, n-grams=(1,2)\n",
    "nbClf(vect=CountVectorizer,nGrams=(1,2))\n"
   ]
  },
  {
   "cell_type": "code",
   "execution_count": 12,
   "metadata": {
    "colab": {
     "base_uri": "https://localhost:8080/"
    },
    "id": "zIPONf-SN7cu",
    "outputId": "79b9eda1-517a-436e-f7fc-851065c16806"
   },
   "outputs": [
    {
     "name": "stdout",
     "output_type": "stream",
     "text": [
      "Best Parameters:\n",
      "\n",
      "\tclf__alpha : 0.1\n",
      "\tvectorizer__max_df : 0.5\n",
      "\n",
      "Best Score: 0.6529011242093222\n",
      "\n",
      "Performance on the test data\n",
      "\n",
      "              precision    recall  f1-score   support\n",
      "\n",
      "    Negative       0.67      0.71      0.69      2555\n",
      "     Neutral       0.59      0.36      0.45      1250\n",
      "    Positive       0.68      0.76      0.71      2939\n",
      "\n",
      "    accuracy                           0.67      6744\n",
      "   macro avg       0.65      0.61      0.62      6744\n",
      "weighted avg       0.66      0.67      0.66      6744\n",
      "\n"
     ]
    }
   ],
   "source": [
    "#Performing grid search based on CountVectorizer, n-grams=(1,3)\n",
    "\n",
    "nbClf(vect=CountVectorizer, nGrams=(1,3))"
   ]
  },
  {
   "cell_type": "code",
   "execution_count": 13,
   "metadata": {
    "colab": {
     "base_uri": "https://localhost:8080/"
    },
    "id": "PJNBvyY_NAB6",
    "outputId": "90c9c59a-5925-4afb-a4e1-a6e7b930a555"
   },
   "outputs": [
    {
     "name": "stdout",
     "output_type": "stream",
     "text": [
      "Best Parameters:\n",
      "\n",
      "\tclf__alpha : 0.1\n",
      "\tvectorizer__max_df : 0.5\n",
      "\n",
      "Best Score: 0.6564079534163636\n",
      "\n",
      "Performance on the test data\n",
      "\n",
      "              precision    recall  f1-score   support\n",
      "\n",
      "    Negative       0.68      0.71      0.69      2555\n",
      "     Neutral       0.68      0.21      0.32      1250\n",
      "    Positive       0.65      0.82      0.73      2939\n",
      "\n",
      "    accuracy                           0.66      6744\n",
      "   macro avg       0.67      0.58      0.58      6744\n",
      "weighted avg       0.67      0.66      0.64      6744\n",
      "\n"
     ]
    }
   ],
   "source": [
    "#Performing grid search based on tf-idf, n-grams=(1,1)\n",
    "nbClf(vect=TfidfVectorizer, nGrams=(1,1))"
   ]
  },
  {
   "cell_type": "code",
   "execution_count": 14,
   "metadata": {
    "colab": {
     "base_uri": "https://localhost:8080/"
    },
    "id": "fSZ2SXPRQ4sx",
    "outputId": "f3673fe9-0f49-4f4c-91ae-a48b6bb516b8"
   },
   "outputs": [
    {
     "name": "stdout",
     "output_type": "stream",
     "text": [
      "Best Parameters:\n",
      "\n",
      "\tclf__alpha : 0.1\n",
      "\tvectorizer__max_df : 0.5\n",
      "\n",
      "Best Score: 0.654340541399552\n",
      "\n",
      "Performance on the test data\n",
      "\n",
      "              precision    recall  f1-score   support\n",
      "\n",
      "    Negative       0.69      0.71      0.70      2555\n",
      "     Neutral       0.76      0.19      0.30      1250\n",
      "    Positive       0.64      0.83      0.73      2939\n",
      "\n",
      "    accuracy                           0.67      6744\n",
      "   macro avg       0.70      0.58      0.58      6744\n",
      "weighted avg       0.68      0.67      0.64      6744\n",
      "\n"
     ]
    }
   ],
   "source": [
    "#Performing grid search based on tf-idf, n-grams=(1,2)\n",
    "nbClf(vect=TfidfVectorizer, nGrams=(1,2))"
   ]
  },
  {
   "cell_type": "code",
   "execution_count": 15,
   "metadata": {
    "colab": {
     "base_uri": "https://localhost:8080/"
    },
    "id": "p7sf8UuTQ5UH",
    "outputId": "4314fe3d-9f70-4681-bc5d-77a3346241ee"
   },
   "outputs": [
    {
     "name": "stdout",
     "output_type": "stream",
     "text": [
      "Best Parameters:\n",
      "\n",
      "\tclf__alpha : 0.1\n",
      "\tvectorizer__max_df : 0.5\n",
      "\n",
      "Best Score: 0.6480334289563967\n",
      "\n",
      "Performance on the test data\n",
      "\n",
      "              precision    recall  f1-score   support\n",
      "\n",
      "    Negative       0.69      0.70      0.69      2555\n",
      "     Neutral       0.78      0.18      0.29      1250\n",
      "    Positive       0.64      0.84      0.72      2939\n",
      "\n",
      "    accuracy                           0.66      6744\n",
      "   macro avg       0.70      0.57      0.57      6744\n",
      "weighted avg       0.68      0.66      0.63      6744\n",
      "\n"
     ]
    }
   ],
   "source": [
    "#Performing grid search based on tf-idf, n-grams=(1,3)\n",
    "nbClf(vect=TfidfVectorizer, nGrams=(1,3))"
   ]
  },
  {
   "cell_type": "markdown",
   "metadata": {
    "id": "Z3jHpCNf6zen"
   },
   "source": [
    "# Linear-SVC"
   ]
  },
  {
   "cell_type": "code",
   "execution_count": 30,
   "metadata": {
    "id": "Ve3zuxSJ6zeo"
   },
   "outputs": [],
   "source": [
    "from sklearn.svm import LinearSVC\n",
    "\n",
    "def svcClf(vect=CountVectorizer, nGrams=(1,1)):\n",
    "    pipe = Pipeline([('vectorizer', vect(stop_words='english',max_df=0.5, ngram_range=nGrams)),                 \n",
    "                     ('clf', LinearSVC())])\n",
    "\n",
    "    params = {#'vectorizer__max_df': (0.5, 1.0),    \n",
    "            'clf__C':(0.1, 1, 10)\n",
    "           }\n",
    "\n",
    "    grid_search = GridSearchCV(pipe, params, verbose=0)\n",
    "\n",
    "    grid_search.fit(X_train, y_train)\n",
    "\n",
    "    #Best score and parameters\n",
    "    print(\"Best Parameters:\\n\")\n",
    "    for k,v in grid_search.best_params_.items():\n",
    "        print(f\"\\t{k} : {v}\")\n",
    "        print()\n",
    "        print(f\"Best Score: {grid_search.best_score_}\")\n",
    "\n",
    "\n",
    "    #Best estimator\n",
    "    print(\"\\nPerformance on the test data\")\n",
    "    best_pipe = grid_search.best_estimator_\n",
    "\n",
    "    best_pipe.fit(X_train, y_train)\n",
    "    pred = best_pipe.predict(X_test)\n",
    "    print()\n",
    "    print(classification_report(y_test, pred))"
   ]
  },
  {
   "cell_type": "code",
   "execution_count": 17,
   "metadata": {
    "colab": {
     "base_uri": "https://localhost:8080/"
    },
    "id": "H56p75-16zer",
    "outputId": "fe334333-2012-45c6-c71c-c4654f64800c"
   },
   "outputs": [
    {
     "name": "stdout",
     "output_type": "stream",
     "text": [
      "Best Parameters:\n",
      "\n",
      "\tclf__C : 0.1\n",
      "\tvectorizer__max_df : 0.5\n",
      "\n",
      "Best Score: 0.8130380894635898\n",
      "\n",
      "Performance on the test data\n",
      "\n",
      "              precision    recall  f1-score   support\n",
      "\n",
      "    Negative       0.85      0.82      0.83      2555\n",
      "     Neutral       0.70      0.75      0.72      1250\n",
      "    Positive       0.86      0.85      0.85      2939\n",
      "\n",
      "    accuracy                           0.82      6744\n",
      "   macro avg       0.80      0.81      0.80      6744\n",
      "weighted avg       0.82      0.82      0.82      6744\n",
      "\n"
     ]
    }
   ],
   "source": [
    "#Performing grid search based on CountVectorizer, n-grams=(1,1)\n",
    "\n",
    "svcClf(vect=CountVectorizer, nGrams=(1,1))"
   ]
  },
  {
   "cell_type": "code",
   "execution_count": 18,
   "metadata": {
    "colab": {
     "base_uri": "https://localhost:8080/"
    },
    "id": "-hzCfQI96zeu",
    "outputId": "e9366a0d-fb12-4c2c-adab-de41e64f1b39"
   },
   "outputs": [
    {
     "name": "stdout",
     "output_type": "stream",
     "text": [
      "Best Parameters:\n",
      "\n",
      "\tclf__C : 0.1\n",
      "\tvectorizer__max_df : 0.5\n",
      "\n",
      "Best Score: 0.8043232543266562\n",
      "\n",
      "Performance on the test data\n",
      "\n",
      "              precision    recall  f1-score   support\n",
      "\n",
      "    Negative       0.85      0.79      0.82      2555\n",
      "     Neutral       0.67      0.78      0.72      1250\n",
      "    Positive       0.85      0.85      0.85      2939\n",
      "\n",
      "    accuracy                           0.81      6744\n",
      "   macro avg       0.79      0.81      0.80      6744\n",
      "weighted avg       0.82      0.81      0.82      6744\n",
      "\n"
     ]
    }
   ],
   "source": [
    "#Performing grid search based on CountVectorizer, n-grams=(1,2)\n",
    "\n",
    "svcClf(vect=CountVectorizer, nGrams=(1,2))"
   ]
  },
  {
   "cell_type": "code",
   "execution_count": 21,
   "metadata": {
    "colab": {
     "base_uri": "https://localhost:8080/"
    },
    "id": "DoriJ1awSJjV",
    "outputId": "de719cb7-e620-4162-ca06-0d1c94c38a0e"
   },
   "outputs": [
    {
     "name": "stdout",
     "output_type": "stream",
     "text": [
      "Best Parameters:\n",
      "\n",
      "\tvectorizer__max_df : 0.5\n",
      "\n",
      "Best Score: 0.7971526168950774\n",
      "\n",
      "Performance on the test data\n",
      "\n",
      "              precision    recall  f1-score   support\n",
      "\n",
      "    Negative       0.85      0.79      0.82      2555\n",
      "     Neutral       0.67      0.80      0.73      1250\n",
      "    Positive       0.86      0.84      0.85      2939\n",
      "\n",
      "    accuracy                           0.81      6744\n",
      "   macro avg       0.79      0.81      0.80      6744\n",
      "weighted avg       0.82      0.81      0.82      6744\n",
      "\n"
     ]
    }
   ],
   "source": [
    "#Performing grid search based on CountVectorizer, n-grams=(1,3)\n",
    "\n",
    "svcClf(vect=CountVectorizer, nGrams=(1,3))"
   ]
  },
  {
   "cell_type": "code",
   "execution_count": 22,
   "metadata": {
    "colab": {
     "base_uri": "https://localhost:8080/"
    },
    "id": "vCq86rfpSTPG",
    "outputId": "bfafa674-3fa7-4aea-d8a8-3320fd41295e"
   },
   "outputs": [
    {
     "name": "stdout",
     "output_type": "stream",
     "text": [
      "Best Parameters:\n",
      "\n",
      "\tvectorizer__max_df : 0.5\n",
      "\n",
      "Best Score: 0.7767658042145943\n",
      "\n",
      "Performance on the test data\n",
      "\n",
      "              precision    recall  f1-score   support\n",
      "\n",
      "    Negative       0.80      0.82      0.81      2555\n",
      "     Neutral       0.76      0.58      0.65      1250\n",
      "    Positive       0.80      0.87      0.84      2939\n",
      "\n",
      "    accuracy                           0.80      6744\n",
      "   macro avg       0.79      0.76      0.77      6744\n",
      "weighted avg       0.79      0.80      0.79      6744\n",
      "\n"
     ]
    }
   ],
   "source": [
    "#Performing grid search based on tf-idf, n-grams=(1,1)\n",
    "svcClf(vect=TfidfVectorizer, nGrams=(1,1))"
   ]
  },
  {
   "cell_type": "code",
   "execution_count": 31,
   "metadata": {
    "colab": {
     "base_uri": "https://localhost:8080/"
    },
    "id": "MptOEJ6JSVrY",
    "outputId": "c2893d8a-a57c-4652-d0f4-7f989de804ec"
   },
   "outputs": [
    {
     "name": "stdout",
     "output_type": "stream",
     "text": [
      "Best Parameters:\n",
      "\n",
      "\tclf__C : 10\n",
      "\n",
      "Best Score: 0.7847477578596258\n",
      "\n",
      "Performance on the test data\n",
      "\n",
      "              precision    recall  f1-score   support\n",
      "\n",
      "    Negative       0.80      0.83      0.81      2555\n",
      "     Neutral       0.75      0.57      0.65      1250\n",
      "    Positive       0.81      0.87      0.84      2939\n",
      "\n",
      "    accuracy                           0.80      6744\n",
      "   macro avg       0.79      0.76      0.77      6744\n",
      "weighted avg       0.80      0.80      0.79      6744\n",
      "\n"
     ]
    }
   ],
   "source": [
    "#Performing grid search based on tf-idf, n-grams=(1,2)\n",
    "svcClf(vect=TfidfVectorizer, nGrams=(1,2))"
   ]
  },
  {
   "cell_type": "code",
   "execution_count": 32,
   "metadata": {
    "colab": {
     "base_uri": "https://localhost:8080/"
    },
    "id": "6YJrKym4SZAH",
    "outputId": "9d644253-7fd5-458c-b371-e254acedb891"
   },
   "outputs": [
    {
     "name": "stdout",
     "output_type": "stream",
     "text": [
      "Best Parameters:\n",
      "\n",
      "\tclf__C : 10\n",
      "\n",
      "Best Score: 0.7694642972893041\n",
      "\n",
      "Performance on the test data\n",
      "\n",
      "              precision    recall  f1-score   support\n",
      "\n",
      "    Negative       0.79      0.83      0.81      2555\n",
      "     Neutral       0.78      0.49      0.60      1250\n",
      "    Positive       0.79      0.88      0.83      2939\n",
      "\n",
      "    accuracy                           0.79      6744\n",
      "   macro avg       0.79      0.73      0.75      6744\n",
      "weighted avg       0.79      0.79      0.78      6744\n",
      "\n"
     ]
    }
   ],
   "source": [
    "#Performing grid search based on tf-idf, n-grams=(1,3)\n",
    "svcClf(vect=TfidfVectorizer, nGrams=(1,3))"
   ]
  },
  {
   "cell_type": "markdown",
   "metadata": {
    "id": "qhnPZR9EWvyT"
   },
   "source": [
    "# SGDClassifier"
   ]
  },
  {
   "cell_type": "code",
   "execution_count": 28,
   "metadata": {
    "id": "yFXHSiI-W1Ji"
   },
   "outputs": [],
   "source": [
    "from sklearn.linear_model import SGDClassifier\n",
    "\n",
    "def sgdClf(vect=CountVectorizer, nGrams=(1,1)):\n",
    "  best_pipe = Pipeline([('vectorizer', vect(stop_words='english', ngram_range=nGrams)),                 \n",
    "                   ('clf', SGDClassifier(alpha=0.00001, penalty='elasticnet'))])\n",
    "\n",
    "  # params = {'vectorizer__max_df': (0.5, 0.75, 1.0),       \n",
    "  #           'clf__alpha': (0.00001, 0.000001),\n",
    "  #           'clf__penalty': ('l2', 'elasticnet')}\n",
    "\n",
    "  # grid_search = GridSearchCV(pipe, params, verbose=0)\n",
    "\n",
    "  # grid_search.fit(X_train, y_train)\n",
    "\n",
    "  # #Best score and parameters\n",
    "  # print(\"Best Parameters:\\n\")\n",
    "  # for k,v in grid_search.best_params_.items():\n",
    "  #     print(f\"\\t{k} : {v}\")\n",
    "  # print()\n",
    "  # print(f\"Best Score: {grid_search.best_score_}\")\n",
    "\n",
    "\n",
    "  # #Best estimator\n",
    "  # print(\"\\nPerformance on the test data\")\n",
    "  # best_pipe = grid_search.best_estimator_\n",
    "\n",
    "  best_pipe.fit(X_train, y_train)\n",
    "  pred = best_pipe.predict(X_test)\n",
    "  print()\n",
    "  print(classification_report(y_test, pred))"
   ]
  },
  {
   "cell_type": "code",
   "execution_count": 29,
   "metadata": {
    "colab": {
     "base_uri": "https://localhost:8080/"
    },
    "id": "HgKnyL0_XsPE",
    "outputId": "09a12013-3502-4b75-8813-ebb9687e12e2"
   },
   "outputs": [
    {
     "name": "stdout",
     "output_type": "stream",
     "text": [
      "Best Parameters:\n",
      "\n",
      "\tclf__alpha : 1e-05\n",
      "\tclf__penalty : elasticnet\n",
      "\tvectorizer__max_df : 1.0\n",
      "\n",
      "Best Score: 0.80610282125646\n",
      "\n",
      "Performance on the test data\n",
      "\n",
      "              precision    recall  f1-score   support\n",
      "\n",
      "    Negative       0.84      0.83      0.83      2555\n",
      "     Neutral       0.70      0.75      0.73      1250\n",
      "    Positive       0.86      0.85      0.85      2939\n",
      "\n",
      "    accuracy                           0.82      6744\n",
      "   macro avg       0.80      0.81      0.81      6744\n",
      "weighted avg       0.82      0.82      0.82      6744\n",
      "\n"
     ]
    }
   ],
   "source": [
    "#Performing grid search based on CountVectorizer, n-grams=(1,1)\n",
    "\n",
    "sgdClf(vect=CountVectorizer, nGrams=(1,1))"
   ]
  },
  {
   "cell_type": "code",
   "execution_count": 30,
   "metadata": {
    "colab": {
     "base_uri": "https://localhost:8080/"
    },
    "id": "bOLoVbosY4wi",
    "outputId": "0e9d22dd-7b87-4d21-c1fd-a1876aded533"
   },
   "outputs": [
    {
     "name": "stdout",
     "output_type": "stream",
     "text": [
      "Best Parameters:\n",
      "\n",
      "\tclf__alpha : 1e-05\n",
      "\tclf__penalty : elasticnet\n",
      "\tvectorizer__max_df : 0.75\n",
      "\n",
      "Best Score: 0.8064692620024111\n",
      "\n",
      "Performance on the test data\n",
      "\n",
      "              precision    recall  f1-score   support\n",
      "\n",
      "    Negative       0.84      0.82      0.83      2555\n",
      "     Neutral       0.72      0.74      0.73      1250\n",
      "    Positive       0.86      0.86      0.86      2939\n",
      "\n",
      "    accuracy                           0.82      6744\n",
      "   macro avg       0.80      0.81      0.80      6744\n",
      "weighted avg       0.82      0.82      0.82      6744\n",
      "\n"
     ]
    }
   ],
   "source": [
    "#Performing grid search based on CountVectorizer, n-grams=(1,2)\n",
    "\n",
    "sgdClf(vect=CountVectorizer, nGrams=(1,2))"
   ]
  },
  {
   "cell_type": "code",
   "execution_count": 31,
   "metadata": {
    "colab": {
     "base_uri": "https://localhost:8080/"
    },
    "id": "lzOidzs9Y_mF",
    "outputId": "0d30ec86-da67-4535-c66d-2c4e51b7df7f"
   },
   "outputs": [
    {
     "name": "stdout",
     "output_type": "stream",
     "text": [
      "Best Parameters:\n",
      "\n",
      "\tclf__alpha : 1e-05\n",
      "\tclf__penalty : elasticnet\n",
      "\tvectorizer__max_df : 0.5\n",
      "\n",
      "Best Score: 0.799036690404019\n",
      "\n",
      "Performance on the test data\n",
      "\n",
      "              precision    recall  f1-score   support\n",
      "\n",
      "    Negative       0.84      0.82      0.83      2555\n",
      "     Neutral       0.72      0.74      0.73      1250\n",
      "    Positive       0.86      0.86      0.86      2939\n",
      "\n",
      "    accuracy                           0.82      6744\n",
      "   macro avg       0.80      0.81      0.80      6744\n",
      "weighted avg       0.82      0.82      0.82      6744\n",
      "\n"
     ]
    }
   ],
   "source": [
    "#Performing grid search based on CountVectorizer, n-grams=(1,3)\n",
    "\n",
    "sgdClf(vect=CountVectorizer, nGrams=(1,3))"
   ]
  },
  {
   "cell_type": "code",
   "execution_count": 32,
   "metadata": {
    "colab": {
     "base_uri": "https://localhost:8080/"
    },
    "id": "dAMv9Jt9ZBof",
    "outputId": "fd98d200-9126-49cd-8fac-cf7fcbe23055"
   },
   "outputs": [
    {
     "name": "stdout",
     "output_type": "stream",
     "text": [
      "Best Parameters:\n",
      "\n",
      "\tclf__C : 1\n",
      "\tvectorizer__max_df : 0.5\n",
      "\n",
      "Best Score: 0.8052131251086541\n",
      "\n",
      "Performance on the test data\n",
      "\n",
      "              precision    recall  f1-score   support\n",
      "\n",
      "    Negative       0.84      0.82      0.83      2555\n",
      "     Neutral       0.71      0.69      0.70      1250\n",
      "    Positive       0.84      0.87      0.85      2939\n",
      "\n",
      "    accuracy                           0.82      6744\n",
      "   macro avg       0.80      0.79      0.80      6744\n",
      "weighted avg       0.82      0.82      0.82      6744\n",
      "\n"
     ]
    }
   ],
   "source": [
    "#Performing grid search based on tf-idf, n-grams=(1,1)\n",
    "sgdClf(vect=TfidfVectorizer, nGrams=(1,1))"
   ]
  },
  {
   "cell_type": "code",
   "execution_count": 33,
   "metadata": {
    "colab": {
     "base_uri": "https://localhost:8080/"
    },
    "id": "QsFT3T8DZBw6",
    "outputId": "d765a031-64e4-47ef-d602-0ed3e6844231"
   },
   "outputs": [
    {
     "name": "stdout",
     "output_type": "stream",
     "text": [
      "Best Parameters:\n",
      "\n",
      "\tclf__C : 1\n",
      "\tvectorizer__max_df : 0.5\n",
      "\n",
      "Best Score: 0.7809269055577948\n",
      "\n",
      "Performance on the test data\n",
      "\n",
      "              precision    recall  f1-score   support\n",
      "\n",
      "    Negative       0.80      0.82      0.81      2555\n",
      "     Neutral       0.76      0.56      0.65      1250\n",
      "    Positive       0.81      0.88      0.84      2939\n",
      "\n",
      "    accuracy                           0.80      6744\n",
      "   macro avg       0.79      0.75      0.77      6744\n",
      "weighted avg       0.80      0.80      0.79      6744\n",
      "\n"
     ]
    }
   ],
   "source": [
    "#Performing grid search based on tf-idf, n-grams=(1,2)\n",
    "sgdClf(vect=TfidfVectorizer, nGrams=(1,2))"
   ]
  },
  {
   "cell_type": "code",
   "execution_count": 34,
   "metadata": {
    "colab": {
     "base_uri": "https://localhost:8080/"
    },
    "id": "BxLJ7gR_ZB5N",
    "outputId": "15e26ad7-9aed-480f-c42a-0b570fb27be7"
   },
   "outputs": [
    {
     "name": "stdout",
     "output_type": "stream",
     "text": [
      "Best Parameters:\n",
      "\n",
      "\tclf__C : 1\n",
      "\tvectorizer__max_df : 0.5\n",
      "\n",
      "Best Score: 0.7672398069532008\n",
      "\n",
      "Performance on the test data\n",
      "\n",
      "              precision    recall  f1-score   support\n",
      "\n",
      "    Negative       0.79      0.82      0.81      2555\n",
      "     Neutral       0.77      0.52      0.62      1250\n",
      "    Positive       0.79      0.87      0.83      2939\n",
      "\n",
      "    accuracy                           0.79      6744\n",
      "   macro avg       0.78      0.74      0.75      6744\n",
      "weighted avg       0.79      0.79      0.78      6744\n",
      "\n"
     ]
    }
   ],
   "source": [
    "#Performing grid search based on tf-idf, n-grams=(1,3)\n",
    "sgdClf(vect=TfidfVectorizer, nGrams=(1,3))"
   ]
  },
  {
   "cell_type": "markdown",
   "metadata": {
    "id": "DLsV0dX0aJqo"
   },
   "source": [
    "# GradientBoostingClassifier"
   ]
  },
  {
   "cell_type": "code",
   "execution_count": 39,
   "metadata": {
    "id": "9ni0W2swaaQg"
   },
   "outputs": [],
   "source": [
    "from sklearn.ensemble import GradientBoostingClassifier\n",
    "\n",
    "def gbcClf(vect=CountVectorizer, nGrams=(1,1)):\n",
    "  best_pipe = Pipeline([('vectorizer', vect(stop_words='english', ngram_range=nGrams)),                 \n",
    "                   ('clf', GradientBoostingClassifier(learning_rate=0.1, n_estimators=500))])\n",
    "\n",
    "  # params = {#'vectorizer__max_df': (0.5,1.0)      \n",
    "  #           #'clf__learning_rate': (0.001, 0.01, 0.1)            \n",
    "  #            #'clf__n_estimators': (100,200)\n",
    "  #            'clf__subsample': (0.5, 1)\n",
    "  #           }\n",
    "\n",
    "  # grid_search = GridSearchCV(pipe, params, verbose=0)\n",
    "\n",
    "  # grid_search.fit(X_train, y_train)\n",
    "\n",
    "  # #Best score and parameters\n",
    "  # print(\"Best Parameters:\\n\")\n",
    "  # for k,v in grid_search.best_params_.items():\n",
    "  #     print(f\"\\t{k} : {v}\")\n",
    "  # print()\n",
    "  # print(f\"Best Score: {grid_search.best_score_}\")\n",
    "\n",
    "\n",
    "  # #Best estimator\n",
    "  # print(\"\\nPerformance on the test data\")\n",
    "  # best_pipe = grid_search.best_estimator_\n",
    "\n",
    "  best_pipe.fit(X_train, y_train)\n",
    "  pred = best_pipe.predict(X_test)\n",
    "  print()\n",
    "  print(classification_report(y_test, pred))"
   ]
  },
  {
   "cell_type": "code",
   "execution_count": 36,
   "metadata": {
    "colab": {
     "base_uri": "https://localhost:8080/"
    },
    "id": "gRpaW3DCgChQ",
    "outputId": "10c3ffbf-8a6c-4383-9dcd-73be3480d035"
   },
   "outputs": [
    {
     "name": "stdout",
     "output_type": "stream",
     "text": [
      "Best Parameters:\n",
      "\n",
      "\tclf__subsample : 1\n",
      "\n",
      "Best Score: 0.7754572633664754\n",
      "\n",
      "Performance on the test data\n",
      "\n",
      "              precision    recall  f1-score   support\n",
      "\n",
      "    Negative       0.81      0.76      0.79      2555\n",
      "     Neutral       0.67      0.80      0.73      1250\n",
      "    Positive       0.84      0.81      0.82      2939\n",
      "\n",
      "    accuracy                           0.79      6744\n",
      "   macro avg       0.77      0.79      0.78      6744\n",
      "weighted avg       0.79      0.79      0.79      6744\n",
      "\n"
     ]
    }
   ],
   "source": [
    "#Performing grid search based on CountVectorizer, n-grams=(1,1)\n",
    "\n",
    "gbcClf(vect=CountVectorizer, nGrams=(1,1))"
   ]
  },
  {
   "cell_type": "code",
   "execution_count": 40,
   "metadata": {
    "colab": {
     "base_uri": "https://localhost:8080/"
    },
    "id": "NNf12CxaDcRK",
    "outputId": "13c2b5cd-d66b-48c3-f337-fd1a4c2f89d5"
   },
   "outputs": [
    {
     "name": "stdout",
     "output_type": "stream",
     "text": [
      "\n",
      "              precision    recall  f1-score   support\n",
      "\n",
      "    Negative       0.80      0.77      0.79      2555\n",
      "     Neutral       0.66      0.76      0.71      1250\n",
      "    Positive       0.83      0.80      0.82      2939\n",
      "\n",
      "    accuracy                           0.78      6744\n",
      "   macro avg       0.76      0.78      0.77      6744\n",
      "weighted avg       0.79      0.78      0.78      6744\n",
      "\n"
     ]
    }
   ],
   "source": [
    "#Performing grid search based on CountVectorizer, n-grams=(1,2)\n",
    "\n",
    "gbcClf(vect=CountVectorizer, nGrams=(1,2))"
   ]
  },
  {
   "cell_type": "code",
   "execution_count": 41,
   "metadata": {
    "colab": {
     "base_uri": "https://localhost:8080/"
    },
    "id": "Pw5HB91oDcRK",
    "outputId": "e16c2f9f-d7b6-4792-b4da-23e18dab975f"
   },
   "outputs": [
    {
     "name": "stdout",
     "output_type": "stream",
     "text": [
      "\n",
      "              precision    recall  f1-score   support\n",
      "\n",
      "    Negative       0.80      0.77      0.78      2555\n",
      "     Neutral       0.66      0.75      0.70      1250\n",
      "    Positive       0.83      0.80      0.82      2939\n",
      "\n",
      "    accuracy                           0.78      6744\n",
      "   macro avg       0.76      0.78      0.77      6744\n",
      "weighted avg       0.79      0.78      0.78      6744\n",
      "\n"
     ]
    }
   ],
   "source": [
    "#Performing grid search based on CountVectorizer, n-grams=(1,3)\n",
    "\n",
    "gbcClf(vect=CountVectorizer, nGrams=(1,3))"
   ]
  },
  {
   "cell_type": "code",
   "execution_count": 43,
   "metadata": {
    "colab": {
     "base_uri": "https://localhost:8080/"
    },
    "id": "zO7jP0GbHfyU",
    "outputId": "b4483a38-f79f-4d29-9ea0-18832ecf8a35"
   },
   "outputs": [
    {
     "name": "stdout",
     "output_type": "stream",
     "text": [
      "\n",
      "              precision    recall  f1-score   support\n",
      "\n",
      "    Negative       0.79      0.77      0.78      2555\n",
      "     Neutral       0.69      0.52      0.60      1250\n",
      "    Positive       0.74      0.83      0.78      2939\n",
      "\n",
      "    accuracy                           0.75      6744\n",
      "   macro avg       0.74      0.71      0.72      6744\n",
      "weighted avg       0.75      0.75      0.75      6744\n",
      "\n"
     ]
    }
   ],
   "source": [
    "#Performing grid search based on tf-idf, n-grams=(1,1)\n",
    "gbcClf(vect=TfidfVectorizer, nGrams=(1,1))"
   ]
  },
  {
   "cell_type": "code",
   "execution_count": 44,
   "metadata": {
    "colab": {
     "base_uri": "https://localhost:8080/"
    },
    "id": "lgR40X95DcRK",
    "outputId": "5293d4c0-1067-4c44-e992-62d3063f74fb"
   },
   "outputs": [
    {
     "name": "stdout",
     "output_type": "stream",
     "text": [
      "\n",
      "              precision    recall  f1-score   support\n",
      "\n",
      "    Negative       0.81      0.72      0.76      2555\n",
      "     Neutral       0.56      0.70      0.62      1250\n",
      "    Positive       0.78      0.78      0.78      2939\n",
      "\n",
      "    accuracy                           0.74      6744\n",
      "   macro avg       0.72      0.73      0.72      6744\n",
      "weighted avg       0.75      0.74      0.74      6744\n",
      "\n"
     ]
    }
   ],
   "source": [
    "#Performing grid search based on tf-idf, n-grams=(1,2)\n",
    "gbcClf(vect=TfidfVectorizer, nGrams=(1,2))"
   ]
  },
  {
   "cell_type": "code",
   "execution_count": 45,
   "metadata": {
    "colab": {
     "base_uri": "https://localhost:8080/"
    },
    "id": "Os3dP2w6DcRK",
    "outputId": "a497b068-3a52-4be6-8307-42479d93d764"
   },
   "outputs": [
    {
     "name": "stdout",
     "output_type": "stream",
     "text": [
      "\n",
      "              precision    recall  f1-score   support\n",
      "\n",
      "    Negative       0.83      0.66      0.74      2555\n",
      "     Neutral       0.48      0.77      0.59      1250\n",
      "    Positive       0.80      0.73      0.76      2939\n",
      "\n",
      "    accuracy                           0.71      6744\n",
      "   macro avg       0.70      0.72      0.70      6744\n",
      "weighted avg       0.75      0.71      0.72      6744\n",
      "\n"
     ]
    }
   ],
   "source": [
    "#Performing grid search based on tf-idf, n-grams=(1,3)\n",
    "gbcClf(vect=TfidfVectorizer, nGrams=(1,3))"
   ]
  },
  {
   "cell_type": "markdown",
   "metadata": {
    "id": "YpOtUsVcOsiB"
   },
   "source": [
    "# AdaBoostClassifier"
   ]
  },
  {
   "cell_type": "code",
   "execution_count": 9,
   "metadata": {
    "id": "niBa5Y_WOwpm"
   },
   "outputs": [],
   "source": [
    "from sklearn.ensemble import AdaBoostClassifier\n",
    "\n",
    "def adaClf(vect=CountVectorizer, nGrams=(1,1)):\n",
    "    pipe = Pipeline([('vectorizer', vect(stop_words='english', ngram_range=nGrams)),                 \n",
    "                   ('clf', AdaBoostClassifier(n_estimators=500))])\n",
    "\n",
    "    params = {#'vectorizer__max_df': (0.5,1.0),      \n",
    "                        \n",
    "             'clf__n_estimators': (100,200,1000)\n",
    "             \n",
    "            }\n",
    "\n",
    "    grid_search = GridSearchCV(pipe, params, verbose=0)\n",
    "\n",
    "    grid_search.fit(X_train, y_train)\n",
    "\n",
    "    #Best score and parameters\n",
    "    print(\"Best Parameters:\\n\")\n",
    "    for k,v in grid_search.best_params_.items():\n",
    "        print(f\"\\t{k} : {v}\")\n",
    "    print()\n",
    "    print(f\"Best Score: {grid_search.best_score_}\")\n",
    "\n",
    "\n",
    "    #Best estimator\n",
    "    print(\"\\nPerformance on the test data\")\n",
    "    best_pipe = grid_search.best_estimator_\n",
    "\n",
    "    best_pipe.fit(X_train, y_train)\n",
    "    pred = best_pipe.predict(X_test)\n",
    "    print()\n",
    "    print(classification_report(y_test, pred))"
   ]
  },
  {
   "cell_type": "code",
   "execution_count": 24,
   "metadata": {
    "id": "deu06QuKPTCP"
   },
   "outputs": [
    {
     "name": "stdout",
     "output_type": "stream",
     "text": [
      "Best Parameters:\n",
      "\n",
      "\tclf__n_estimators : 1000\n",
      "\n",
      "Best Score: 0.7848001857833864\n",
      "\n",
      "Performance on the test data\n",
      "\n",
      "              precision    recall  f1-score   support\n",
      "\n",
      "    Negative       0.83      0.77      0.80      2555\n",
      "     Neutral       0.66      0.80      0.72      1250\n",
      "    Positive       0.83      0.81      0.82      2939\n",
      "\n",
      "    accuracy                           0.79      6744\n",
      "   macro avg       0.77      0.79      0.78      6744\n",
      "weighted avg       0.80      0.79      0.80      6744\n",
      "\n"
     ]
    }
   ],
   "source": [
    "#Performing grid search based on CountVectorizer, n-grams=(1,1)\n",
    "\n",
    "adaClf(vect=CountVectorizer, nGrams=(1,1))\n"
   ]
  },
  {
   "cell_type": "code",
   "execution_count": 31,
   "metadata": {
    "id": "0uQHlLZ0DcRL"
   },
   "outputs": [
    {
     "name": "stdout",
     "output_type": "stream",
     "text": [
      "Best Parameters:\n",
      "\n",
      "\tclf__n_estimators : 1000\n",
      "\n",
      "Best Score: 0.7836223706125856\n",
      "\n",
      "Performance on the test data\n",
      "\n",
      "              precision    recall  f1-score   support\n",
      "\n",
      "    Negative       0.84      0.78      0.81      2555\n",
      "     Neutral       0.65      0.81      0.72      1250\n",
      "    Positive       0.84      0.81      0.82      2939\n",
      "\n",
      "    accuracy                           0.80      6744\n",
      "   macro avg       0.78      0.80      0.78      6744\n",
      "weighted avg       0.80      0.80      0.80      6744\n",
      "\n"
     ]
    }
   ],
   "source": [
    "#Performing grid search based on CountVectorizer, n-grams=(1,2)\n",
    "\n",
    "adaClf(vect=CountVectorizer, nGrams=(1,2))"
   ]
  },
  {
   "cell_type": "code",
   "execution_count": 32,
   "metadata": {
    "id": "hMiYHEVBDcRL"
   },
   "outputs": [
    {
     "name": "stdout",
     "output_type": "stream",
     "text": [
      "Best Parameters:\n",
      "\n",
      "\tclf__n_estimators : 1000\n",
      "\n",
      "Best Score: 0.786605834843377\n",
      "\n",
      "Performance on the test data\n",
      "\n",
      "              precision    recall  f1-score   support\n",
      "\n",
      "    Negative       0.84      0.78      0.81      2555\n",
      "     Neutral       0.65      0.82      0.72      1250\n",
      "    Positive       0.84      0.81      0.83      2939\n",
      "\n",
      "    accuracy                           0.80      6744\n",
      "   macro avg       0.78      0.80      0.79      6744\n",
      "weighted avg       0.81      0.80      0.80      6744\n",
      "\n"
     ]
    }
   ],
   "source": [
    "#Performing grid search based on CountVectorizer, n-grams=(1,3)\n",
    "\n",
    "adaClf(vect=CountVectorizer, nGrams=(1,3))"
   ]
  },
  {
   "cell_type": "code",
   "execution_count": 33,
   "metadata": {
    "id": "wOOPfBSvP2x_"
   },
   "outputs": [
    {
     "name": "stdout",
     "output_type": "stream",
     "text": [
      "Best Parameters:\n",
      "\n",
      "\tclf__n_estimators : 1000\n",
      "\n",
      "Best Score: 0.7673968921208922\n",
      "\n",
      "Performance on the test data\n",
      "\n",
      "              precision    recall  f1-score   support\n",
      "\n",
      "    Negative       0.81      0.76      0.78      2555\n",
      "     Neutral       0.65      0.76      0.70      1250\n",
      "    Positive       0.81      0.80      0.81      2939\n",
      "\n",
      "    accuracy                           0.78      6744\n",
      "   macro avg       0.76      0.77      0.76      6744\n",
      "weighted avg       0.78      0.78      0.78      6744\n",
      "\n"
     ]
    }
   ],
   "source": [
    "#Performing grid search based on tf-idf, n-grams=(1,1)\n",
    "adaClf(vect=TfidfVectorizer, nGrams=(1,1))"
   ]
  },
  {
   "cell_type": "code",
   "execution_count": 13,
   "metadata": {
    "id": "_Qq3zfJEDcRL"
   },
   "outputs": [
    {
     "ename": "NameError",
     "evalue": "name 'adaClf' is not defined",
     "output_type": "error",
     "traceback": [
      "\u001b[0;31m---------------------------------------------------------------------------\u001b[0m",
      "\u001b[0;31mNameError\u001b[0m                                 Traceback (most recent call last)",
      "\u001b[0;32m<ipython-input-13-b32bda9e8d9e>\u001b[0m in \u001b[0;36m<module>\u001b[0;34m\u001b[0m\n\u001b[1;32m      1\u001b[0m \u001b[0;31m#Performing grid search based on tf-idf, n-grams=(1,2)\u001b[0m\u001b[0;34m\u001b[0m\u001b[0;34m\u001b[0m\u001b[0;34m\u001b[0m\u001b[0m\n\u001b[0;32m----> 2\u001b[0;31m \u001b[0madaClf\u001b[0m\u001b[0;34m(\u001b[0m\u001b[0mvect\u001b[0m\u001b[0;34m=\u001b[0m\u001b[0mTfidfVectorizer\u001b[0m\u001b[0;34m,\u001b[0m \u001b[0mnGrams\u001b[0m\u001b[0;34m=\u001b[0m\u001b[0;34m(\u001b[0m\u001b[0;36m1\u001b[0m\u001b[0;34m,\u001b[0m\u001b[0;36m2\u001b[0m\u001b[0;34m)\u001b[0m\u001b[0;34m)\u001b[0m\u001b[0;34m\u001b[0m\u001b[0;34m\u001b[0m\u001b[0m\n\u001b[0m",
      "\u001b[0;31mNameError\u001b[0m: name 'adaClf' is not defined"
     ]
    }
   ],
   "source": [
    "#Performing grid search based on tf-idf, n-grams=(1,2)\n",
    "adaClf(vect=TfidfVectorizer, nGrams=(1,2))"
   ]
  },
  {
   "cell_type": "code",
   "execution_count": 35,
   "metadata": {
    "id": "iT8UL9yNDcRL"
   },
   "outputs": [
    {
     "ename": "KeyboardInterrupt",
     "evalue": "",
     "output_type": "error",
     "traceback": [
      "\u001b[0;31m---------------------------------------------------------------------------\u001b[0m",
      "\u001b[0;31mKeyboardInterrupt\u001b[0m                         Traceback (most recent call last)",
      "\u001b[0;32m<ipython-input-35-330895482875>\u001b[0m in \u001b[0;36m<module>\u001b[0;34m\u001b[0m\n\u001b[1;32m      1\u001b[0m \u001b[0;31m#Performing grid search based on tf-idf, n-grams=(1,3)\u001b[0m\u001b[0;34m\u001b[0m\u001b[0;34m\u001b[0m\u001b[0;34m\u001b[0m\u001b[0m\n\u001b[0;32m----> 2\u001b[0;31m \u001b[0madaClf\u001b[0m\u001b[0;34m(\u001b[0m\u001b[0mvect\u001b[0m\u001b[0;34m=\u001b[0m\u001b[0mTfidfVectorizer\u001b[0m\u001b[0;34m,\u001b[0m \u001b[0mnGrams\u001b[0m\u001b[0;34m=\u001b[0m\u001b[0;34m(\u001b[0m\u001b[0;36m1\u001b[0m\u001b[0;34m,\u001b[0m\u001b[0;36m3\u001b[0m\u001b[0;34m)\u001b[0m\u001b[0;34m)\u001b[0m\u001b[0;34m\u001b[0m\u001b[0;34m\u001b[0m\u001b[0m\n\u001b[0m",
      "\u001b[0;32m<ipython-input-23-d27a3a9f4f23>\u001b[0m in \u001b[0;36madaClf\u001b[0;34m(vect, nGrams)\u001b[0m\n\u001b[1;32m     13\u001b[0m     \u001b[0mgrid_search\u001b[0m \u001b[0;34m=\u001b[0m \u001b[0mGridSearchCV\u001b[0m\u001b[0;34m(\u001b[0m\u001b[0mpipe\u001b[0m\u001b[0;34m,\u001b[0m \u001b[0mparams\u001b[0m\u001b[0;34m,\u001b[0m \u001b[0mverbose\u001b[0m\u001b[0;34m=\u001b[0m\u001b[0;36m0\u001b[0m\u001b[0;34m)\u001b[0m\u001b[0;34m\u001b[0m\u001b[0;34m\u001b[0m\u001b[0m\n\u001b[1;32m     14\u001b[0m \u001b[0;34m\u001b[0m\u001b[0m\n\u001b[0;32m---> 15\u001b[0;31m     \u001b[0mgrid_search\u001b[0m\u001b[0;34m.\u001b[0m\u001b[0mfit\u001b[0m\u001b[0;34m(\u001b[0m\u001b[0mX_train\u001b[0m\u001b[0;34m,\u001b[0m \u001b[0my_train\u001b[0m\u001b[0;34m)\u001b[0m\u001b[0;34m\u001b[0m\u001b[0;34m\u001b[0m\u001b[0m\n\u001b[0m\u001b[1;32m     16\u001b[0m \u001b[0;34m\u001b[0m\u001b[0m\n\u001b[1;32m     17\u001b[0m     \u001b[0;31m#Best score and parameters\u001b[0m\u001b[0;34m\u001b[0m\u001b[0;34m\u001b[0m\u001b[0;34m\u001b[0m\u001b[0m\n",
      "\u001b[0;32m~/anaconda3/envs/texTmin/lib/python3.8/site-packages/sklearn/utils/validation.py\u001b[0m in \u001b[0;36minner_f\u001b[0;34m(*args, **kwargs)\u001b[0m\n\u001b[1;32m     70\u001b[0m                           FutureWarning)\n\u001b[1;32m     71\u001b[0m         \u001b[0mkwargs\u001b[0m\u001b[0;34m.\u001b[0m\u001b[0mupdate\u001b[0m\u001b[0;34m(\u001b[0m\u001b[0;34m{\u001b[0m\u001b[0mk\u001b[0m\u001b[0;34m:\u001b[0m \u001b[0marg\u001b[0m \u001b[0;32mfor\u001b[0m \u001b[0mk\u001b[0m\u001b[0;34m,\u001b[0m \u001b[0marg\u001b[0m \u001b[0;32min\u001b[0m \u001b[0mzip\u001b[0m\u001b[0;34m(\u001b[0m\u001b[0msig\u001b[0m\u001b[0;34m.\u001b[0m\u001b[0mparameters\u001b[0m\u001b[0;34m,\u001b[0m \u001b[0margs\u001b[0m\u001b[0;34m)\u001b[0m\u001b[0;34m}\u001b[0m\u001b[0;34m)\u001b[0m\u001b[0;34m\u001b[0m\u001b[0;34m\u001b[0m\u001b[0m\n\u001b[0;32m---> 72\u001b[0;31m         \u001b[0;32mreturn\u001b[0m \u001b[0mf\u001b[0m\u001b[0;34m(\u001b[0m\u001b[0;34m**\u001b[0m\u001b[0mkwargs\u001b[0m\u001b[0;34m)\u001b[0m\u001b[0;34m\u001b[0m\u001b[0;34m\u001b[0m\u001b[0m\n\u001b[0m\u001b[1;32m     73\u001b[0m     \u001b[0;32mreturn\u001b[0m \u001b[0minner_f\u001b[0m\u001b[0;34m\u001b[0m\u001b[0;34m\u001b[0m\u001b[0m\n\u001b[1;32m     74\u001b[0m \u001b[0;34m\u001b[0m\u001b[0m\n",
      "\u001b[0;32m~/anaconda3/envs/texTmin/lib/python3.8/site-packages/sklearn/model_selection/_search.py\u001b[0m in \u001b[0;36mfit\u001b[0;34m(self, X, y, groups, **fit_params)\u001b[0m\n\u001b[1;32m    734\u001b[0m                 \u001b[0;32mreturn\u001b[0m \u001b[0mresults\u001b[0m\u001b[0;34m\u001b[0m\u001b[0;34m\u001b[0m\u001b[0m\n\u001b[1;32m    735\u001b[0m \u001b[0;34m\u001b[0m\u001b[0m\n\u001b[0;32m--> 736\u001b[0;31m             \u001b[0mself\u001b[0m\u001b[0;34m.\u001b[0m\u001b[0m_run_search\u001b[0m\u001b[0;34m(\u001b[0m\u001b[0mevaluate_candidates\u001b[0m\u001b[0;34m)\u001b[0m\u001b[0;34m\u001b[0m\u001b[0;34m\u001b[0m\u001b[0m\n\u001b[0m\u001b[1;32m    737\u001b[0m \u001b[0;34m\u001b[0m\u001b[0m\n\u001b[1;32m    738\u001b[0m         \u001b[0;31m# For multi-metric evaluation, store the best_index_, best_params_ and\u001b[0m\u001b[0;34m\u001b[0m\u001b[0;34m\u001b[0m\u001b[0;34m\u001b[0m\u001b[0m\n",
      "\u001b[0;32m~/anaconda3/envs/texTmin/lib/python3.8/site-packages/sklearn/model_selection/_search.py\u001b[0m in \u001b[0;36m_run_search\u001b[0;34m(self, evaluate_candidates)\u001b[0m\n\u001b[1;32m   1186\u001b[0m     \u001b[0;32mdef\u001b[0m \u001b[0m_run_search\u001b[0m\u001b[0;34m(\u001b[0m\u001b[0mself\u001b[0m\u001b[0;34m,\u001b[0m \u001b[0mevaluate_candidates\u001b[0m\u001b[0;34m)\u001b[0m\u001b[0;34m:\u001b[0m\u001b[0;34m\u001b[0m\u001b[0;34m\u001b[0m\u001b[0m\n\u001b[1;32m   1187\u001b[0m         \u001b[0;34m\"\"\"Search all candidates in param_grid\"\"\"\u001b[0m\u001b[0;34m\u001b[0m\u001b[0;34m\u001b[0m\u001b[0m\n\u001b[0;32m-> 1188\u001b[0;31m         \u001b[0mevaluate_candidates\u001b[0m\u001b[0;34m(\u001b[0m\u001b[0mParameterGrid\u001b[0m\u001b[0;34m(\u001b[0m\u001b[0mself\u001b[0m\u001b[0;34m.\u001b[0m\u001b[0mparam_grid\u001b[0m\u001b[0;34m)\u001b[0m\u001b[0;34m)\u001b[0m\u001b[0;34m\u001b[0m\u001b[0;34m\u001b[0m\u001b[0m\n\u001b[0m\u001b[1;32m   1189\u001b[0m \u001b[0;34m\u001b[0m\u001b[0m\n\u001b[1;32m   1190\u001b[0m \u001b[0;34m\u001b[0m\u001b[0m\n",
      "\u001b[0;32m~/anaconda3/envs/texTmin/lib/python3.8/site-packages/sklearn/model_selection/_search.py\u001b[0m in \u001b[0;36mevaluate_candidates\u001b[0;34m(candidate_params)\u001b[0m\n\u001b[1;32m    706\u001b[0m                               n_splits, n_candidates, n_candidates * n_splits))\n\u001b[1;32m    707\u001b[0m \u001b[0;34m\u001b[0m\u001b[0m\n\u001b[0;32m--> 708\u001b[0;31m                 out = parallel(delayed(_fit_and_score)(clone(base_estimator),\n\u001b[0m\u001b[1;32m    709\u001b[0m                                                        \u001b[0mX\u001b[0m\u001b[0;34m,\u001b[0m \u001b[0my\u001b[0m\u001b[0;34m,\u001b[0m\u001b[0;34m\u001b[0m\u001b[0;34m\u001b[0m\u001b[0m\n\u001b[1;32m    710\u001b[0m                                                        \u001b[0mtrain\u001b[0m\u001b[0;34m=\u001b[0m\u001b[0mtrain\u001b[0m\u001b[0;34m,\u001b[0m \u001b[0mtest\u001b[0m\u001b[0;34m=\u001b[0m\u001b[0mtest\u001b[0m\u001b[0;34m,\u001b[0m\u001b[0;34m\u001b[0m\u001b[0;34m\u001b[0m\u001b[0m\n",
      "\u001b[0;32m~/anaconda3/envs/texTmin/lib/python3.8/site-packages/joblib/parallel.py\u001b[0m in \u001b[0;36m__call__\u001b[0;34m(self, iterable)\u001b[0m\n\u001b[1;32m   1049\u001b[0m                 \u001b[0mself\u001b[0m\u001b[0;34m.\u001b[0m\u001b[0m_iterating\u001b[0m \u001b[0;34m=\u001b[0m \u001b[0mself\u001b[0m\u001b[0;34m.\u001b[0m\u001b[0m_original_iterator\u001b[0m \u001b[0;32mis\u001b[0m \u001b[0;32mnot\u001b[0m \u001b[0;32mNone\u001b[0m\u001b[0;34m\u001b[0m\u001b[0;34m\u001b[0m\u001b[0m\n\u001b[1;32m   1050\u001b[0m \u001b[0;34m\u001b[0m\u001b[0m\n\u001b[0;32m-> 1051\u001b[0;31m             \u001b[0;32mwhile\u001b[0m \u001b[0mself\u001b[0m\u001b[0;34m.\u001b[0m\u001b[0mdispatch_one_batch\u001b[0m\u001b[0;34m(\u001b[0m\u001b[0miterator\u001b[0m\u001b[0;34m)\u001b[0m\u001b[0;34m:\u001b[0m\u001b[0;34m\u001b[0m\u001b[0;34m\u001b[0m\u001b[0m\n\u001b[0m\u001b[1;32m   1052\u001b[0m                 \u001b[0;32mpass\u001b[0m\u001b[0;34m\u001b[0m\u001b[0;34m\u001b[0m\u001b[0m\n\u001b[1;32m   1053\u001b[0m \u001b[0;34m\u001b[0m\u001b[0m\n",
      "\u001b[0;32m~/anaconda3/envs/texTmin/lib/python3.8/site-packages/joblib/parallel.py\u001b[0m in \u001b[0;36mdispatch_one_batch\u001b[0;34m(self, iterator)\u001b[0m\n\u001b[1;32m    864\u001b[0m                 \u001b[0;32mreturn\u001b[0m \u001b[0;32mFalse\u001b[0m\u001b[0;34m\u001b[0m\u001b[0;34m\u001b[0m\u001b[0m\n\u001b[1;32m    865\u001b[0m             \u001b[0;32melse\u001b[0m\u001b[0;34m:\u001b[0m\u001b[0;34m\u001b[0m\u001b[0;34m\u001b[0m\u001b[0m\n\u001b[0;32m--> 866\u001b[0;31m                 \u001b[0mself\u001b[0m\u001b[0;34m.\u001b[0m\u001b[0m_dispatch\u001b[0m\u001b[0;34m(\u001b[0m\u001b[0mtasks\u001b[0m\u001b[0;34m)\u001b[0m\u001b[0;34m\u001b[0m\u001b[0;34m\u001b[0m\u001b[0m\n\u001b[0m\u001b[1;32m    867\u001b[0m                 \u001b[0;32mreturn\u001b[0m \u001b[0;32mTrue\u001b[0m\u001b[0;34m\u001b[0m\u001b[0;34m\u001b[0m\u001b[0m\n\u001b[1;32m    868\u001b[0m \u001b[0;34m\u001b[0m\u001b[0m\n",
      "\u001b[0;32m~/anaconda3/envs/texTmin/lib/python3.8/site-packages/joblib/parallel.py\u001b[0m in \u001b[0;36m_dispatch\u001b[0;34m(self, batch)\u001b[0m\n\u001b[1;32m    782\u001b[0m         \u001b[0;32mwith\u001b[0m \u001b[0mself\u001b[0m\u001b[0;34m.\u001b[0m\u001b[0m_lock\u001b[0m\u001b[0;34m:\u001b[0m\u001b[0;34m\u001b[0m\u001b[0;34m\u001b[0m\u001b[0m\n\u001b[1;32m    783\u001b[0m             \u001b[0mjob_idx\u001b[0m \u001b[0;34m=\u001b[0m \u001b[0mlen\u001b[0m\u001b[0;34m(\u001b[0m\u001b[0mself\u001b[0m\u001b[0;34m.\u001b[0m\u001b[0m_jobs\u001b[0m\u001b[0;34m)\u001b[0m\u001b[0;34m\u001b[0m\u001b[0;34m\u001b[0m\u001b[0m\n\u001b[0;32m--> 784\u001b[0;31m             \u001b[0mjob\u001b[0m \u001b[0;34m=\u001b[0m \u001b[0mself\u001b[0m\u001b[0;34m.\u001b[0m\u001b[0m_backend\u001b[0m\u001b[0;34m.\u001b[0m\u001b[0mapply_async\u001b[0m\u001b[0;34m(\u001b[0m\u001b[0mbatch\u001b[0m\u001b[0;34m,\u001b[0m \u001b[0mcallback\u001b[0m\u001b[0;34m=\u001b[0m\u001b[0mcb\u001b[0m\u001b[0;34m)\u001b[0m\u001b[0;34m\u001b[0m\u001b[0;34m\u001b[0m\u001b[0m\n\u001b[0m\u001b[1;32m    785\u001b[0m             \u001b[0;31m# A job can complete so quickly than its callback is\u001b[0m\u001b[0;34m\u001b[0m\u001b[0;34m\u001b[0m\u001b[0;34m\u001b[0m\u001b[0m\n\u001b[1;32m    786\u001b[0m             \u001b[0;31m# called before we get here, causing self._jobs to\u001b[0m\u001b[0;34m\u001b[0m\u001b[0;34m\u001b[0m\u001b[0;34m\u001b[0m\u001b[0m\n",
      "\u001b[0;32m~/anaconda3/envs/texTmin/lib/python3.8/site-packages/joblib/_parallel_backends.py\u001b[0m in \u001b[0;36mapply_async\u001b[0;34m(self, func, callback)\u001b[0m\n\u001b[1;32m    206\u001b[0m     \u001b[0;32mdef\u001b[0m \u001b[0mapply_async\u001b[0m\u001b[0;34m(\u001b[0m\u001b[0mself\u001b[0m\u001b[0;34m,\u001b[0m \u001b[0mfunc\u001b[0m\u001b[0;34m,\u001b[0m \u001b[0mcallback\u001b[0m\u001b[0;34m=\u001b[0m\u001b[0;32mNone\u001b[0m\u001b[0;34m)\u001b[0m\u001b[0;34m:\u001b[0m\u001b[0;34m\u001b[0m\u001b[0;34m\u001b[0m\u001b[0m\n\u001b[1;32m    207\u001b[0m         \u001b[0;34m\"\"\"Schedule a func to be run\"\"\"\u001b[0m\u001b[0;34m\u001b[0m\u001b[0;34m\u001b[0m\u001b[0m\n\u001b[0;32m--> 208\u001b[0;31m         \u001b[0mresult\u001b[0m \u001b[0;34m=\u001b[0m \u001b[0mImmediateResult\u001b[0m\u001b[0;34m(\u001b[0m\u001b[0mfunc\u001b[0m\u001b[0;34m)\u001b[0m\u001b[0;34m\u001b[0m\u001b[0;34m\u001b[0m\u001b[0m\n\u001b[0m\u001b[1;32m    209\u001b[0m         \u001b[0;32mif\u001b[0m \u001b[0mcallback\u001b[0m\u001b[0;34m:\u001b[0m\u001b[0;34m\u001b[0m\u001b[0;34m\u001b[0m\u001b[0m\n\u001b[1;32m    210\u001b[0m             \u001b[0mcallback\u001b[0m\u001b[0;34m(\u001b[0m\u001b[0mresult\u001b[0m\u001b[0;34m)\u001b[0m\u001b[0;34m\u001b[0m\u001b[0;34m\u001b[0m\u001b[0m\n",
      "\u001b[0;32m~/anaconda3/envs/texTmin/lib/python3.8/site-packages/joblib/_parallel_backends.py\u001b[0m in \u001b[0;36m__init__\u001b[0;34m(self, batch)\u001b[0m\n\u001b[1;32m    570\u001b[0m         \u001b[0;31m# Don't delay the application, to avoid keeping the input\u001b[0m\u001b[0;34m\u001b[0m\u001b[0;34m\u001b[0m\u001b[0;34m\u001b[0m\u001b[0m\n\u001b[1;32m    571\u001b[0m         \u001b[0;31m# arguments in memory\u001b[0m\u001b[0;34m\u001b[0m\u001b[0;34m\u001b[0m\u001b[0;34m\u001b[0m\u001b[0m\n\u001b[0;32m--> 572\u001b[0;31m         \u001b[0mself\u001b[0m\u001b[0;34m.\u001b[0m\u001b[0mresults\u001b[0m \u001b[0;34m=\u001b[0m \u001b[0mbatch\u001b[0m\u001b[0;34m(\u001b[0m\u001b[0;34m)\u001b[0m\u001b[0;34m\u001b[0m\u001b[0;34m\u001b[0m\u001b[0m\n\u001b[0m\u001b[1;32m    573\u001b[0m \u001b[0;34m\u001b[0m\u001b[0m\n\u001b[1;32m    574\u001b[0m     \u001b[0;32mdef\u001b[0m \u001b[0mget\u001b[0m\u001b[0;34m(\u001b[0m\u001b[0mself\u001b[0m\u001b[0;34m)\u001b[0m\u001b[0;34m:\u001b[0m\u001b[0;34m\u001b[0m\u001b[0;34m\u001b[0m\u001b[0m\n",
      "\u001b[0;32m~/anaconda3/envs/texTmin/lib/python3.8/site-packages/joblib/parallel.py\u001b[0m in \u001b[0;36m__call__\u001b[0;34m(self)\u001b[0m\n\u001b[1;32m    260\u001b[0m         \u001b[0;31m# change the default number of processes to -1\u001b[0m\u001b[0;34m\u001b[0m\u001b[0;34m\u001b[0m\u001b[0;34m\u001b[0m\u001b[0m\n\u001b[1;32m    261\u001b[0m         \u001b[0;32mwith\u001b[0m \u001b[0mparallel_backend\u001b[0m\u001b[0;34m(\u001b[0m\u001b[0mself\u001b[0m\u001b[0;34m.\u001b[0m\u001b[0m_backend\u001b[0m\u001b[0;34m,\u001b[0m \u001b[0mn_jobs\u001b[0m\u001b[0;34m=\u001b[0m\u001b[0mself\u001b[0m\u001b[0;34m.\u001b[0m\u001b[0m_n_jobs\u001b[0m\u001b[0;34m)\u001b[0m\u001b[0;34m:\u001b[0m\u001b[0;34m\u001b[0m\u001b[0;34m\u001b[0m\u001b[0m\n\u001b[0;32m--> 262\u001b[0;31m             return [func(*args, **kwargs)\n\u001b[0m\u001b[1;32m    263\u001b[0m                     for func, args, kwargs in self.items]\n\u001b[1;32m    264\u001b[0m \u001b[0;34m\u001b[0m\u001b[0m\n",
      "\u001b[0;32m~/anaconda3/envs/texTmin/lib/python3.8/site-packages/joblib/parallel.py\u001b[0m in \u001b[0;36m<listcomp>\u001b[0;34m(.0)\u001b[0m\n\u001b[1;32m    260\u001b[0m         \u001b[0;31m# change the default number of processes to -1\u001b[0m\u001b[0;34m\u001b[0m\u001b[0;34m\u001b[0m\u001b[0;34m\u001b[0m\u001b[0m\n\u001b[1;32m    261\u001b[0m         \u001b[0;32mwith\u001b[0m \u001b[0mparallel_backend\u001b[0m\u001b[0;34m(\u001b[0m\u001b[0mself\u001b[0m\u001b[0;34m.\u001b[0m\u001b[0m_backend\u001b[0m\u001b[0;34m,\u001b[0m \u001b[0mn_jobs\u001b[0m\u001b[0;34m=\u001b[0m\u001b[0mself\u001b[0m\u001b[0;34m.\u001b[0m\u001b[0m_n_jobs\u001b[0m\u001b[0;34m)\u001b[0m\u001b[0;34m:\u001b[0m\u001b[0;34m\u001b[0m\u001b[0;34m\u001b[0m\u001b[0m\n\u001b[0;32m--> 262\u001b[0;31m             return [func(*args, **kwargs)\n\u001b[0m\u001b[1;32m    263\u001b[0m                     for func, args, kwargs in self.items]\n\u001b[1;32m    264\u001b[0m \u001b[0;34m\u001b[0m\u001b[0m\n",
      "\u001b[0;32m~/anaconda3/envs/texTmin/lib/python3.8/site-packages/sklearn/model_selection/_validation.py\u001b[0m in \u001b[0;36m_fit_and_score\u001b[0;34m(estimator, X, y, scorer, train, test, verbose, parameters, fit_params, return_train_score, return_parameters, return_n_test_samples, return_times, return_estimator, error_score)\u001b[0m\n\u001b[1;32m    529\u001b[0m             \u001b[0mestimator\u001b[0m\u001b[0;34m.\u001b[0m\u001b[0mfit\u001b[0m\u001b[0;34m(\u001b[0m\u001b[0mX_train\u001b[0m\u001b[0;34m,\u001b[0m \u001b[0;34m**\u001b[0m\u001b[0mfit_params\u001b[0m\u001b[0;34m)\u001b[0m\u001b[0;34m\u001b[0m\u001b[0;34m\u001b[0m\u001b[0m\n\u001b[1;32m    530\u001b[0m         \u001b[0;32melse\u001b[0m\u001b[0;34m:\u001b[0m\u001b[0;34m\u001b[0m\u001b[0;34m\u001b[0m\u001b[0m\n\u001b[0;32m--> 531\u001b[0;31m             \u001b[0mestimator\u001b[0m\u001b[0;34m.\u001b[0m\u001b[0mfit\u001b[0m\u001b[0;34m(\u001b[0m\u001b[0mX_train\u001b[0m\u001b[0;34m,\u001b[0m \u001b[0my_train\u001b[0m\u001b[0;34m,\u001b[0m \u001b[0;34m**\u001b[0m\u001b[0mfit_params\u001b[0m\u001b[0;34m)\u001b[0m\u001b[0;34m\u001b[0m\u001b[0;34m\u001b[0m\u001b[0m\n\u001b[0m\u001b[1;32m    532\u001b[0m \u001b[0;34m\u001b[0m\u001b[0m\n\u001b[1;32m    533\u001b[0m     \u001b[0;32mexcept\u001b[0m \u001b[0mException\u001b[0m \u001b[0;32mas\u001b[0m \u001b[0me\u001b[0m\u001b[0;34m:\u001b[0m\u001b[0;34m\u001b[0m\u001b[0;34m\u001b[0m\u001b[0m\n",
      "\u001b[0;32m~/anaconda3/envs/texTmin/lib/python3.8/site-packages/sklearn/pipeline.py\u001b[0m in \u001b[0;36mfit\u001b[0;34m(self, X, y, **fit_params)\u001b[0m\n\u001b[1;32m    333\u001b[0m             \u001b[0;32mif\u001b[0m \u001b[0mself\u001b[0m\u001b[0;34m.\u001b[0m\u001b[0m_final_estimator\u001b[0m \u001b[0;34m!=\u001b[0m \u001b[0;34m'passthrough'\u001b[0m\u001b[0;34m:\u001b[0m\u001b[0;34m\u001b[0m\u001b[0;34m\u001b[0m\u001b[0m\n\u001b[1;32m    334\u001b[0m                 \u001b[0mfit_params_last_step\u001b[0m \u001b[0;34m=\u001b[0m \u001b[0mfit_params_steps\u001b[0m\u001b[0;34m[\u001b[0m\u001b[0mself\u001b[0m\u001b[0;34m.\u001b[0m\u001b[0msteps\u001b[0m\u001b[0;34m[\u001b[0m\u001b[0;34m-\u001b[0m\u001b[0;36m1\u001b[0m\u001b[0;34m]\u001b[0m\u001b[0;34m[\u001b[0m\u001b[0;36m0\u001b[0m\u001b[0;34m]\u001b[0m\u001b[0;34m]\u001b[0m\u001b[0;34m\u001b[0m\u001b[0;34m\u001b[0m\u001b[0m\n\u001b[0;32m--> 335\u001b[0;31m                 \u001b[0mself\u001b[0m\u001b[0;34m.\u001b[0m\u001b[0m_final_estimator\u001b[0m\u001b[0;34m.\u001b[0m\u001b[0mfit\u001b[0m\u001b[0;34m(\u001b[0m\u001b[0mXt\u001b[0m\u001b[0;34m,\u001b[0m \u001b[0my\u001b[0m\u001b[0;34m,\u001b[0m \u001b[0;34m**\u001b[0m\u001b[0mfit_params_last_step\u001b[0m\u001b[0;34m)\u001b[0m\u001b[0;34m\u001b[0m\u001b[0;34m\u001b[0m\u001b[0m\n\u001b[0m\u001b[1;32m    336\u001b[0m \u001b[0;34m\u001b[0m\u001b[0m\n\u001b[1;32m    337\u001b[0m         \u001b[0;32mreturn\u001b[0m \u001b[0mself\u001b[0m\u001b[0;34m\u001b[0m\u001b[0;34m\u001b[0m\u001b[0m\n",
      "\u001b[0;32m~/anaconda3/envs/texTmin/lib/python3.8/site-packages/sklearn/ensemble/_weight_boosting.py\u001b[0m in \u001b[0;36mfit\u001b[0;34m(self, X, y, sample_weight)\u001b[0m\n\u001b[1;32m    441\u001b[0m \u001b[0;34m\u001b[0m\u001b[0m\n\u001b[1;32m    442\u001b[0m         \u001b[0;31m# Fit\u001b[0m\u001b[0;34m\u001b[0m\u001b[0;34m\u001b[0m\u001b[0;34m\u001b[0m\u001b[0m\n\u001b[0;32m--> 443\u001b[0;31m         \u001b[0;32mreturn\u001b[0m \u001b[0msuper\u001b[0m\u001b[0;34m(\u001b[0m\u001b[0;34m)\u001b[0m\u001b[0;34m.\u001b[0m\u001b[0mfit\u001b[0m\u001b[0;34m(\u001b[0m\u001b[0mX\u001b[0m\u001b[0;34m,\u001b[0m \u001b[0my\u001b[0m\u001b[0;34m,\u001b[0m \u001b[0msample_weight\u001b[0m\u001b[0;34m)\u001b[0m\u001b[0;34m\u001b[0m\u001b[0;34m\u001b[0m\u001b[0m\n\u001b[0m\u001b[1;32m    444\u001b[0m \u001b[0;34m\u001b[0m\u001b[0m\n\u001b[1;32m    445\u001b[0m     \u001b[0;32mdef\u001b[0m \u001b[0m_validate_estimator\u001b[0m\u001b[0;34m(\u001b[0m\u001b[0mself\u001b[0m\u001b[0;34m)\u001b[0m\u001b[0;34m:\u001b[0m\u001b[0;34m\u001b[0m\u001b[0;34m\u001b[0m\u001b[0m\n",
      "\u001b[0;32m~/anaconda3/envs/texTmin/lib/python3.8/site-packages/sklearn/ensemble/_weight_boosting.py\u001b[0m in \u001b[0;36mfit\u001b[0;34m(self, X, y, sample_weight)\u001b[0m\n\u001b[1;32m    128\u001b[0m         \u001b[0;32mfor\u001b[0m \u001b[0miboost\u001b[0m \u001b[0;32min\u001b[0m \u001b[0mrange\u001b[0m\u001b[0;34m(\u001b[0m\u001b[0mself\u001b[0m\u001b[0;34m.\u001b[0m\u001b[0mn_estimators\u001b[0m\u001b[0;34m)\u001b[0m\u001b[0;34m:\u001b[0m\u001b[0;34m\u001b[0m\u001b[0;34m\u001b[0m\u001b[0m\n\u001b[1;32m    129\u001b[0m             \u001b[0;31m# Boosting step\u001b[0m\u001b[0;34m\u001b[0m\u001b[0;34m\u001b[0m\u001b[0;34m\u001b[0m\u001b[0m\n\u001b[0;32m--> 130\u001b[0;31m             sample_weight, estimator_weight, estimator_error = self._boost(\n\u001b[0m\u001b[1;32m    131\u001b[0m                 \u001b[0miboost\u001b[0m\u001b[0;34m,\u001b[0m\u001b[0;34m\u001b[0m\u001b[0;34m\u001b[0m\u001b[0m\n\u001b[1;32m    132\u001b[0m                 \u001b[0mX\u001b[0m\u001b[0;34m,\u001b[0m \u001b[0my\u001b[0m\u001b[0;34m,\u001b[0m\u001b[0;34m\u001b[0m\u001b[0;34m\u001b[0m\u001b[0m\n",
      "\u001b[0;32m~/anaconda3/envs/texTmin/lib/python3.8/site-packages/sklearn/ensemble/_weight_boosting.py\u001b[0m in \u001b[0;36m_boost\u001b[0;34m(self, iboost, X, y, sample_weight, random_state)\u001b[0m\n\u001b[1;32m    501\u001b[0m         \"\"\"\n\u001b[1;32m    502\u001b[0m         \u001b[0;32mif\u001b[0m \u001b[0mself\u001b[0m\u001b[0;34m.\u001b[0m\u001b[0malgorithm\u001b[0m \u001b[0;34m==\u001b[0m \u001b[0;34m'SAMME.R'\u001b[0m\u001b[0;34m:\u001b[0m\u001b[0;34m\u001b[0m\u001b[0;34m\u001b[0m\u001b[0m\n\u001b[0;32m--> 503\u001b[0;31m             \u001b[0;32mreturn\u001b[0m \u001b[0mself\u001b[0m\u001b[0;34m.\u001b[0m\u001b[0m_boost_real\u001b[0m\u001b[0;34m(\u001b[0m\u001b[0miboost\u001b[0m\u001b[0;34m,\u001b[0m \u001b[0mX\u001b[0m\u001b[0;34m,\u001b[0m \u001b[0my\u001b[0m\u001b[0;34m,\u001b[0m \u001b[0msample_weight\u001b[0m\u001b[0;34m,\u001b[0m \u001b[0mrandom_state\u001b[0m\u001b[0;34m)\u001b[0m\u001b[0;34m\u001b[0m\u001b[0;34m\u001b[0m\u001b[0m\n\u001b[0m\u001b[1;32m    504\u001b[0m \u001b[0;34m\u001b[0m\u001b[0m\n\u001b[1;32m    505\u001b[0m         \u001b[0;32melse\u001b[0m\u001b[0;34m:\u001b[0m  \u001b[0;31m# elif self.algorithm == \"SAMME\":\u001b[0m\u001b[0;34m\u001b[0m\u001b[0;34m\u001b[0m\u001b[0m\n",
      "\u001b[0;32m~/anaconda3/envs/texTmin/lib/python3.8/site-packages/sklearn/ensemble/_weight_boosting.py\u001b[0m in \u001b[0;36m_boost_real\u001b[0;34m(self, iboost, X, y, sample_weight, random_state)\u001b[0m\n\u001b[1;32m    511\u001b[0m         \u001b[0mestimator\u001b[0m \u001b[0;34m=\u001b[0m \u001b[0mself\u001b[0m\u001b[0;34m.\u001b[0m\u001b[0m_make_estimator\u001b[0m\u001b[0;34m(\u001b[0m\u001b[0mrandom_state\u001b[0m\u001b[0;34m=\u001b[0m\u001b[0mrandom_state\u001b[0m\u001b[0;34m)\u001b[0m\u001b[0;34m\u001b[0m\u001b[0;34m\u001b[0m\u001b[0m\n\u001b[1;32m    512\u001b[0m \u001b[0;34m\u001b[0m\u001b[0m\n\u001b[0;32m--> 513\u001b[0;31m         \u001b[0mestimator\u001b[0m\u001b[0;34m.\u001b[0m\u001b[0mfit\u001b[0m\u001b[0;34m(\u001b[0m\u001b[0mX\u001b[0m\u001b[0;34m,\u001b[0m \u001b[0my\u001b[0m\u001b[0;34m,\u001b[0m \u001b[0msample_weight\u001b[0m\u001b[0;34m=\u001b[0m\u001b[0msample_weight\u001b[0m\u001b[0;34m)\u001b[0m\u001b[0;34m\u001b[0m\u001b[0;34m\u001b[0m\u001b[0m\n\u001b[0m\u001b[1;32m    514\u001b[0m \u001b[0;34m\u001b[0m\u001b[0m\n\u001b[1;32m    515\u001b[0m         \u001b[0my_predict_proba\u001b[0m \u001b[0;34m=\u001b[0m \u001b[0mestimator\u001b[0m\u001b[0;34m.\u001b[0m\u001b[0mpredict_proba\u001b[0m\u001b[0;34m(\u001b[0m\u001b[0mX\u001b[0m\u001b[0;34m)\u001b[0m\u001b[0;34m\u001b[0m\u001b[0;34m\u001b[0m\u001b[0m\n",
      "\u001b[0;32m~/anaconda3/envs/texTmin/lib/python3.8/site-packages/sklearn/tree/_classes.py\u001b[0m in \u001b[0;36mfit\u001b[0;34m(self, X, y, sample_weight, check_input, X_idx_sorted)\u001b[0m\n\u001b[1;32m    888\u001b[0m         \"\"\"\n\u001b[1;32m    889\u001b[0m \u001b[0;34m\u001b[0m\u001b[0m\n\u001b[0;32m--> 890\u001b[0;31m         super().fit(\n\u001b[0m\u001b[1;32m    891\u001b[0m             \u001b[0mX\u001b[0m\u001b[0;34m,\u001b[0m \u001b[0my\u001b[0m\u001b[0;34m,\u001b[0m\u001b[0;34m\u001b[0m\u001b[0;34m\u001b[0m\u001b[0m\n\u001b[1;32m    892\u001b[0m             \u001b[0msample_weight\u001b[0m\u001b[0;34m=\u001b[0m\u001b[0msample_weight\u001b[0m\u001b[0;34m,\u001b[0m\u001b[0;34m\u001b[0m\u001b[0;34m\u001b[0m\u001b[0m\n",
      "\u001b[0;32m~/anaconda3/envs/texTmin/lib/python3.8/site-packages/sklearn/tree/_classes.py\u001b[0m in \u001b[0;36mfit\u001b[0;34m(self, X, y, sample_weight, check_input, X_idx_sorted)\u001b[0m\n\u001b[1;32m    373\u001b[0m                                            min_impurity_split)\n\u001b[1;32m    374\u001b[0m \u001b[0;34m\u001b[0m\u001b[0m\n\u001b[0;32m--> 375\u001b[0;31m         \u001b[0mbuilder\u001b[0m\u001b[0;34m.\u001b[0m\u001b[0mbuild\u001b[0m\u001b[0;34m(\u001b[0m\u001b[0mself\u001b[0m\u001b[0;34m.\u001b[0m\u001b[0mtree_\u001b[0m\u001b[0;34m,\u001b[0m \u001b[0mX\u001b[0m\u001b[0;34m,\u001b[0m \u001b[0my\u001b[0m\u001b[0;34m,\u001b[0m \u001b[0msample_weight\u001b[0m\u001b[0;34m,\u001b[0m \u001b[0mX_idx_sorted\u001b[0m\u001b[0;34m)\u001b[0m\u001b[0;34m\u001b[0m\u001b[0;34m\u001b[0m\u001b[0m\n\u001b[0m\u001b[1;32m    376\u001b[0m \u001b[0;34m\u001b[0m\u001b[0m\n\u001b[1;32m    377\u001b[0m         \u001b[0;32mif\u001b[0m \u001b[0mself\u001b[0m\u001b[0;34m.\u001b[0m\u001b[0mn_outputs_\u001b[0m \u001b[0;34m==\u001b[0m \u001b[0;36m1\u001b[0m \u001b[0;32mand\u001b[0m \u001b[0mis_classifier\u001b[0m\u001b[0;34m(\u001b[0m\u001b[0mself\u001b[0m\u001b[0;34m)\u001b[0m\u001b[0;34m:\u001b[0m\u001b[0;34m\u001b[0m\u001b[0;34m\u001b[0m\u001b[0m\n",
      "\u001b[0;31mKeyboardInterrupt\u001b[0m: "
     ]
    }
   ],
   "source": [
    "#Performing grid search based on tf-idf, n-grams=(1,3)\n",
    "adaClf(vect=TfidfVectorizer, nGrams=(1,3))"
   ]
  },
  {
   "cell_type": "markdown",
   "metadata": {
    "id": "NBCNGu3uDcRL"
   },
   "source": [
    "# Random Forest"
   ]
  },
  {
   "cell_type": "code",
   "execution_count": 9,
   "metadata": {},
   "outputs": [],
   "source": [
    "from sklearn.ensemble import RandomForestClassifier\n",
    "\n",
    "def rfClf(vect=CountVectorizer, nGrams=(1,1)):\n",
    "    \n",
    "    best_pipe = Pipeline([('vectorizer', vect(stop_words='english', ngram_range=nGrams)),                 \n",
    "                   ('clf', RandomForestClassifier(n_estimators=200))])\n",
    "\n",
    "#     params = {#'vectorizer__max_df': (0.5,1.0),      \n",
    "                        \n",
    "#              #'clf__n_estimators': (200,500,1000)\n",
    "#              'clf__max_features':(\"auto\", \"sqrt\", \"log2\")\n",
    "#     }\n",
    "             \n",
    "             \n",
    "\n",
    "#     grid_search = GridSearchCV(pipe, params, verbose=0)\n",
    "\n",
    "#     grid_search.fit(X_train, y_train)\n",
    "\n",
    "#     #Best score and parameters\n",
    "#     print(\"Best Parameters:\\n\")\n",
    "#     for k,v in grid_search.best_params_.items():\n",
    "#         print(f\"\\t{k} : {v}\")\n",
    "#     print()\n",
    "#     print(f\"Best Score: {grid_search.best_score_}\")\n",
    "\n",
    "\n",
    "    #Best estimator\n",
    "    print(\"\\nPerformance on the test data\")\n",
    "    #best_pipe = grid_search.best_estimator_\n",
    "\n",
    "    best_pipe.fit(X_train, y_train)\n",
    "    pred = best_pipe.predict(X_test)\n",
    "    print()\n",
    "    print(classification_report(y_test, pred))"
   ]
  },
  {
   "cell_type": "code",
   "execution_count": 16,
   "metadata": {},
   "outputs": [
    {
     "name": "stdout",
     "output_type": "stream",
     "text": [
      "\n",
      "Performance on the test data\n",
      "\n",
      "              precision    recall  f1-score   support\n",
      "\n",
      "    Negative       0.81      0.76      0.78      2555\n",
      "     Neutral       0.68      0.77      0.72      1250\n",
      "    Positive       0.81      0.81      0.81      2939\n",
      "\n",
      "    accuracy                           0.78      6744\n",
      "   macro avg       0.77      0.78      0.77      6744\n",
      "weighted avg       0.79      0.78      0.79      6744\n",
      "\n"
     ]
    }
   ],
   "source": [
    "#Performing grid search based on CountVectorizer, n-grams=(1,1)\n",
    "\n",
    "rfClf(vect=CountVectorizer, nGrams=(1,1))\n"
   ]
  },
  {
   "cell_type": "code",
   "execution_count": 10,
   "metadata": {},
   "outputs": [
    {
     "name": "stdout",
     "output_type": "stream",
     "text": [
      "\n",
      "Performance on the test data\n",
      "\n",
      "              precision    recall  f1-score   support\n",
      "\n",
      "    Negative       0.81      0.72      0.76      2555\n",
      "     Neutral       0.65      0.79      0.71      1250\n",
      "    Positive       0.80      0.81      0.80      2939\n",
      "\n",
      "    accuracy                           0.77      6744\n",
      "   macro avg       0.76      0.77      0.76      6744\n",
      "weighted avg       0.78      0.77      0.77      6744\n",
      "\n"
     ]
    }
   ],
   "source": [
    "#Performing grid search based on CountVectorizer, n-grams=(1,2)\n",
    "rfClf(vect=CountVectorizer, nGrams=(1,2))"
   ]
  },
  {
   "cell_type": "code",
   "execution_count": 11,
   "metadata": {},
   "outputs": [
    {
     "name": "stdout",
     "output_type": "stream",
     "text": [
      "\n",
      "Performance on the test data\n",
      "\n",
      "              precision    recall  f1-score   support\n",
      "\n",
      "    Negative       0.81      0.72      0.76      2555\n",
      "     Neutral       0.63      0.78      0.70      1250\n",
      "    Positive       0.80      0.80      0.80      2939\n",
      "\n",
      "    accuracy                           0.76      6744\n",
      "   macro avg       0.75      0.77      0.75      6744\n",
      "weighted avg       0.77      0.76      0.77      6744\n",
      "\n"
     ]
    }
   ],
   "source": [
    "#Performing grid search based on CountVectorizer, n-grams=(1,3)\n",
    "rfClf(vect=CountVectorizer, nGrams=(1,3))"
   ]
  },
  {
   "cell_type": "code",
   "execution_count": 12,
   "metadata": {},
   "outputs": [
    {
     "name": "stdout",
     "output_type": "stream",
     "text": [
      "\n",
      "Performance on the test data\n",
      "\n",
      "              precision    recall  f1-score   support\n",
      "\n",
      "    Negative       0.79      0.75      0.77      2555\n",
      "     Neutral       0.70      0.67      0.69      1250\n",
      "    Positive       0.78      0.82      0.80      2939\n",
      "\n",
      "    accuracy                           0.77      6744\n",
      "   macro avg       0.76      0.75      0.75      6744\n",
      "weighted avg       0.77      0.77      0.77      6744\n",
      "\n"
     ]
    }
   ],
   "source": [
    "#Performing grid search based on tf-idf, n-grams=(1,1)\n",
    "rfClf(vect=TfidfVectorizer, nGrams=(1,1))"
   ]
  },
  {
   "cell_type": "code",
   "execution_count": 14,
   "metadata": {},
   "outputs": [
    {
     "name": "stdout",
     "output_type": "stream",
     "text": [
      "\n",
      "Performance on the test data\n",
      "\n",
      "              precision    recall  f1-score   support\n",
      "\n",
      "    Negative       0.80      0.71      0.75      2555\n",
      "     Neutral       0.59      0.74      0.66      1250\n",
      "    Positive       0.78      0.78      0.78      2939\n",
      "\n",
      "    accuracy                           0.74      6744\n",
      "   macro avg       0.73      0.74      0.73      6744\n",
      "weighted avg       0.75      0.74      0.75      6744\n",
      "\n"
     ]
    }
   ],
   "source": [
    "#Performing grid search based on tf-idf, n-grams=(1,2)\n",
    "rfClf(vect=TfidfVectorizer, nGrams=(1,2))"
   ]
  },
  {
   "cell_type": "code",
   "execution_count": 15,
   "metadata": {},
   "outputs": [
    {
     "name": "stdout",
     "output_type": "stream",
     "text": [
      "\n",
      "Performance on the test data\n",
      "\n",
      "              precision    recall  f1-score   support\n",
      "\n",
      "    Negative       0.81      0.65      0.72      2555\n",
      "     Neutral       0.50      0.83      0.62      1250\n",
      "    Positive       0.81      0.72      0.76      2939\n",
      "\n",
      "    accuracy                           0.71      6744\n",
      "   macro avg       0.71      0.73      0.70      6744\n",
      "weighted avg       0.75      0.71      0.72      6744\n",
      "\n"
     ]
    }
   ],
   "source": [
    "#Performing grid search based on tf-idf, n-grams=(1,3)\n",
    "rfClf(vect=TfidfVectorizer, nGrams=(1,3))"
   ]
  },
  {
   "cell_type": "code",
   "execution_count": null,
   "metadata": {},
   "outputs": [],
   "source": []
  }
 ],
 "metadata": {
  "colab": {
   "collapsed_sections": [],
   "name": "classification 01_imbalance.ipynb",
   "provenance": []
  },
  "kernelspec": {
   "display_name": "texTmin",
   "language": "python",
   "name": "textmin"
  },
  "language_info": {
   "codemirror_mode": {
    "name": "ipython",
    "version": 3
   },
   "file_extension": ".py",
   "mimetype": "text/x-python",
   "name": "python",
   "nbconvert_exporter": "python",
   "pygments_lexer": "ipython3",
   "version": "3.8.5"
  }
 },
 "nbformat": 4,
 "nbformat_minor": 4
}
